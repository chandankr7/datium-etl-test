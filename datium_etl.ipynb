{
  "nbformat": 4,
  "nbformat_minor": 0,
  "metadata": {
    "colab": {
      "name": "datium_etl.ipynb",
      "provenance": [],
      "collapsed_sections": []
    },
    "kernelspec": {
      "display_name": "Python 3",
      "name": "python3"
    },
    "language_info": {
      "name": "python"
    }
  },
  "cells": [
    {
      "cell_type": "code",
      "metadata": {
        "colab": {
          "base_uri": "https://localhost:8080/"
        },
        "id": "-d83-LWRk0Wb",
        "outputId": "4f0a75f2-74e2-4aea-bbed-06372908ed50"
      },
      "source": [
        "# Mount the google drive to access provided data for assessment\n",
        "from google.colab import drive\n",
        "drive.mount('/content/drive')"
      ],
      "execution_count": 1,
      "outputs": [
        {
          "output_type": "stream",
          "text": [
            "Drive already mounted at /content/drive; to attempt to forcibly remount, call drive.mount(\"/content/drive\", force_remount=True).\n"
          ],
          "name": "stdout"
        }
      ]
    },
    {
      "cell_type": "code",
      "metadata": {
        "id": "4R_dfIlevLuo"
      },
      "source": [
        "# Install Open JDK\n",
        "!apt-get install openjdk-8-jdk-headless -qq > /dev/null"
      ],
      "execution_count": 2,
      "outputs": []
    },
    {
      "cell_type": "code",
      "metadata": {
        "id": "oJr6fxkFvsD-"
      },
      "source": [
        "# Get the Sparl open source latest tar file from apache archives\n",
        "!wget -q https://archive.apache.org/dist/spark/spark-3.0.0/spark-3.0.0-bin-hadoop3.2.tgz"
      ],
      "execution_count": 3,
      "outputs": []
    },
    {
      "cell_type": "code",
      "metadata": {
        "id": "lvK7TSbevwN1"
      },
      "source": [
        "# Extract the tar file\n",
        "!tar xf spark-3.0.0-bin-hadoop3.2.tgz"
      ],
      "execution_count": 4,
      "outputs": []
    },
    {
      "cell_type": "code",
      "metadata": {
        "id": "orEWBQ9jwRT5"
      },
      "source": [
        "# Install findspark using pip\n",
        "!pip install -q findspark"
      ],
      "execution_count": 5,
      "outputs": []
    },
    {
      "cell_type": "code",
      "metadata": {
        "id": "GxlVitgTwW2C"
      },
      "source": [
        "# Set your spark folder to your system path environment. \n",
        "import os\n",
        "os.environ[\"JAVA_HOME\"] = \"/usr/lib/jvm/java-8-openjdk-amd64\"\n",
        "os.environ[\"SPARK_HOME\"] = \"/content/spark-3.0.0-bin-hadoop3.2\""
      ],
      "execution_count": 6,
      "outputs": []
    },
    {
      "cell_type": "code",
      "metadata": {
        "id": "w_-edFN_wazq"
      },
      "source": [
        "import findspark\n",
        "\n",
        "findspark.init()"
      ],
      "execution_count": 7,
      "outputs": []
    },
    {
      "cell_type": "code",
      "metadata": {
        "colab": {
          "base_uri": "https://localhost:8080/",
          "height": 35
        },
        "id": "cp2JaV93xySO",
        "outputId": "d4907c3d-04ad-4b6e-92f7-b15a2cd0baae"
      },
      "source": [
        "findspark.find()"
      ],
      "execution_count": 8,
      "outputs": [
        {
          "output_type": "execute_result",
          "data": {
            "application/vnd.google.colaboratory.intrinsic+json": {
              "type": "string"
            },
            "text/plain": [
              "'/content/spark-3.0.0-bin-hadoop3.2'"
            ]
          },
          "metadata": {
            "tags": []
          },
          "execution_count": 8
        }
      ]
    },
    {
      "cell_type": "code",
      "metadata": {
        "id": "c9EWxn9ZyU9x"
      },
      "source": [
        "from pyspark.sql import SparkSession\n",
        "from datetime import datetime\n",
        "\n",
        "spark = SparkSession.builder\\\n",
        "        .master(\"local\")\\\n",
        "        .appName(\"Spark-Datium-ETL-App\")\\\n",
        "        .config('spark.ui.port', '4050')\\\n",
        "        .getOrCreate()"
      ],
      "execution_count": 9,
      "outputs": []
    },
    {
      "cell_type": "code",
      "metadata": {
        "colab": {
          "base_uri": "https://localhost:8080/",
          "height": 216
        },
        "id": "YK-pG-yyyeTb",
        "outputId": "95f136a8-4124-4c62-9aa8-152bf226979e"
      },
      "source": [
        "spark"
      ],
      "execution_count": 10,
      "outputs": [
        {
          "output_type": "execute_result",
          "data": {
            "text/html": [
              "\n",
              "            <div>\n",
              "                <p><b>SparkSession - in-memory</b></p>\n",
              "                \n",
              "        <div>\n",
              "            <p><b>SparkContext</b></p>\n",
              "\n",
              "            <p><a href=\"http://893d28fad429:4050\">Spark UI</a></p>\n",
              "\n",
              "            <dl>\n",
              "              <dt>Version</dt>\n",
              "                <dd><code>v3.0.0</code></dd>\n",
              "              <dt>Master</dt>\n",
              "                <dd><code>local</code></dd>\n",
              "              <dt>AppName</dt>\n",
              "                <dd><code>Spark-Datium-ETL-App</code></dd>\n",
              "            </dl>\n",
              "        </div>\n",
              "        \n",
              "            </div>\n",
              "        "
            ],
            "text/plain": [
              "<pyspark.sql.session.SparkSession at 0x7f6482380590>"
            ]
          },
          "metadata": {
            "tags": []
          },
          "execution_count": 10
        }
      ]
    },
    {
      "cell_type": "code",
      "metadata": {
        "colab": {
          "base_uri": "https://localhost:8080/"
        },
        "id": "M-Z9l4oL59en",
        "outputId": "2a2ffc76-6b1f-4f99-9e6f-1ea613f1bc94"
      },
      "source": [
        "!wget https://bin.equinox.io/c/4VmDzA7iaHb/ngrok-stable-linux-amd64.zip\n",
        "!unzip ngrok-stable-linux-amd64.zip\n",
        "get_ipython().system_raw('./ngrok http 4050 &')\n",
        "!curl -s http://localhost:4040/api/tunnels"
      ],
      "execution_count": 11,
      "outputs": [
        {
          "output_type": "stream",
          "text": [
            "--2021-08-16 09:00:54--  https://bin.equinox.io/c/4VmDzA7iaHb/ngrok-stable-linux-amd64.zip\n",
            "Resolving bin.equinox.io (bin.equinox.io)... 52.202.35.83, 34.206.86.54, 52.55.225.227, ...\n",
            "Connecting to bin.equinox.io (bin.equinox.io)|52.202.35.83|:443... connected.\n",
            "HTTP request sent, awaiting response... 200 OK\n",
            "Length: 13832437 (13M) [application/octet-stream]\n",
            "Saving to: ‘ngrok-stable-linux-amd64.zip’\n",
            "\n",
            "ngrok-stable-linux- 100%[===================>]  13.19M  37.4MB/s    in 0.4s    \n",
            "\n",
            "2021-08-16 09:00:55 (37.4 MB/s) - ‘ngrok-stable-linux-amd64.zip’ saved [13832437/13832437]\n",
            "\n",
            "Archive:  ngrok-stable-linux-amd64.zip\n",
            "  inflating: ngrok                   \n",
            "{\"tunnels\":[],\"uri\":\"/api/tunnels\"}\n"
          ],
          "name": "stdout"
        }
      ]
    },
    {
      "cell_type": "code",
      "metadata": {
        "colab": {
          "base_uri": "https://localhost:8080/"
        },
        "id": "wuE8IkXd9b1_",
        "outputId": "afe466d4-7a58-470e-cbe0-dc9e3fd14841"
      },
      "source": [
        "# Install SQL Server Python ODBC driver library to connect to Database later on\n",
        "!pip install pyodbc"
      ],
      "execution_count": 12,
      "outputs": [
        {
          "output_type": "stream",
          "text": [
            "Collecting pyodbc\n",
            "  Downloading pyodbc-4.0.31.tar.gz (280 kB)\n",
            "\u001b[K     |████████████████████████████████| 280 kB 5.4 MB/s \n",
            "\u001b[?25hBuilding wheels for collected packages: pyodbc\n",
            "  Building wheel for pyodbc (setup.py) ... \u001b[?25l\u001b[?25hdone\n",
            "  Created wheel for pyodbc: filename=pyodbc-4.0.31-cp37-cp37m-linux_x86_64.whl size=286803 sha256=f5cc9673782d0570c91241f088e35bc022e0b37041a11f1cedf4337c52b84602\n",
            "  Stored in directory: /root/.cache/pip/wheels/b6/90/83/0d14028dd261d703154631f91543fbadae0e5e7247501489d9\n",
            "Successfully built pyodbc\n",
            "Installing collected packages: pyodbc\n",
            "Successfully installed pyodbc-4.0.31\n"
          ],
          "name": "stdout"
        }
      ]
    },
    {
      "cell_type": "code",
      "metadata": {
        "id": "JKqUph-Q5eox"
      },
      "source": [
        "# Import Libraries\n",
        "\n",
        "from datetime import datetime as dt\n",
        "spark.sql(\"set spark.sql.legacy.timeParserPolicy=LEGACY\")\n",
        "from pyspark.sql.types import *\n",
        "from pyspark.sql import functions as F\n",
        "from pyspark.sql.functions import coalesce, col, to_timestamp, udf, substring_index, substring, concat, lit, explode_outer\n",
        "from dateutil import parser, tz\n",
        "import uuid\n",
        "import pyodbc\n",
        "\n",
        "from copy import deepcopy\n",
        "from collections import Counter\n",
        "\n",
        "import hashlib\n",
        "import sys\n",
        "sys.path.append('/content/drive/MyDrive/datium_etl')\n",
        "from json_flatten import JsonFlatten"
      ],
      "execution_count": 13,
      "outputs": []
    },
    {
      "cell_type": "code",
      "metadata": {
        "id": "NKDEitJ66k9r"
      },
      "source": [
        "\"\"\"Global Functions\"\"\"\n",
        "# Function to get shape of pyspark dataframe\n",
        "def shape_of_sdf(sdf):\n",
        "    rows = sdf.count()\n",
        "    columns = len(sdf.columns)\n",
        "    size = (rows, columns)\n",
        "    return \"\"\"Spark DF has {0} rows and {1} columns\"\"\".format(rows,columns)\n",
        "\n",
        "# Function to replace a string with null\n",
        "def replace(column, value):\n",
        "    return F.when(column != value, column).otherwise(F.lit(None))\n",
        "\n",
        "# Function to encrypt the sensitive column data\n",
        "def encrypt_value(col):\n",
        "  sha_value = hashlib.sha256(col.encode()).hexdigest()\n",
        "  return sha_value\n",
        "\n",
        "# Function to check null counts in dataframe\n",
        "def nulls_count_check(df):\n",
        "    df.select([F.count(F.when(F.isnull(c), c)).alias(c) for c in df.columns]).show()\n",
        "\n",
        "\"\"\"Global User Defined Functions\"\"\"\n",
        "encrypt_udf = udf(encrypt_value, StringType())\n",
        "uuid_udf = udf(lambda : str(uuid.uuid4()),StringType())\n",
        "format_timestamp_udf = udf(lambda x: format_timestamp(x))\n",
        "\n",
        "\"\"\"It takes the String, parse it to a timestamp, convert to UTC, then convert to String again\"\"\"\n",
        "# Create UTC timezone\n",
        "utc_zone =  tz.gettz('UTC')\n",
        "func = udf(lambda x: parser.parse(x).astimezone(utc_zone).isoformat() if x is not None else None,  StringType())\n"
      ],
      "execution_count": 14,
      "outputs": []
    },
    {
      "cell_type": "code",
      "metadata": {
        "colab": {
          "base_uri": "https://localhost:8080/"
        },
        "id": "HGeRcc9V6WXS",
        "outputId": "3c425cbb-caf6-4bbb-eb28-5730596fa4e9"
      },
      "source": [
        "# Data Sourcing\n",
        "\n",
        "# 1. Upload the dataset from CSV file into Spark Dataframe\n",
        "csv_sdf = csv_sdf = spark.read.option(\"header\", \"true\")\\\n",
        "          .option(\"multiLine\", \"true\")\\\n",
        "          .option(\"inferSchema\",\"true\")\\\n",
        "          .csv(\"/content/drive/MyDrive/datium_etl/data/test.csv\")\n",
        "print(shape_of_sdf(csv_sdf))\n",
        "\n",
        "# Analyse the schema of the CSV File\n",
        "csv_sdf.printSchema()"
      ],
      "execution_count": 15,
      "outputs": [
        {
          "output_type": "stream",
          "text": [
            "Spark DF has 4000000 rows and 8 columns\n",
            "root\n",
            " |-- id: integer (nullable = true)\n",
            " |-- name: string (nullable = true)\n",
            " |-- address: string (nullable = true)\n",
            " |-- color: string (nullable = true)\n",
            " |-- created_at: string (nullable = true)\n",
            " |-- last_login: integer (nullable = true)\n",
            " |-- is_claimed: string (nullable = true)\n",
            " |-- paid_amount: string (nullable = true)\n",
            "\n"
          ],
          "name": "stdout"
        }
      ]
    },
    {
      "cell_type": "code",
      "metadata": {
        "colab": {
          "base_uri": "https://localhost:8080/"
        },
        "id": "xAY4mubc7JYp",
        "outputId": "9ffab19c-5f1e-4e23-c383-f87bde839b3b"
      },
      "source": [
        "# Read Sample 10 records from CSV Dataset\n",
        "csv_sdf.show(10)"
      ],
      "execution_count": 16,
      "outputs": [
        {
          "output_type": "stream",
          "text": [
            "+----+------------------+--------------------+------+--------------------+----------+----------+------------+\n",
            "|  id|              name|             address| color|          created_at|last_login|is_claimed| paid_amount|\n",
            "+----+------------------+--------------------+------+--------------------+----------+----------+------------+\n",
            "|6311|    Jennifer Green|7593 Juan Through...|  lime|Monday, June 30th...|1202190735|      True| 5004.671532|\n",
            "|3350|      Karen Grimes|60975 Jessica Squ...|  lime|Monday, June 30th...| 195884769|      True|893.40459503|\n",
            "|9031|       Calvin Cook|PSC 3989, Box 471...|silver|      1986-06-23TEST| 623477862|      True|       266.6|\n",
            "|1131|    Peter Mcdowell|PSC 1868, Box 483...|  aqua|      1998-07-17TEST|1244885561|      True| 674.5441267|\n",
            "|1889|  Mr. Ryan Sanchez|352 Simmons Circl...| white| 2006-05-09 13:29:58|1293151276|     truee|        null|\n",
            "|1212|       Mark Obrien|51090 Susan Ferry...|  navy| 1974-11-24 20:47:03|1389262412|     truee|        null|\n",
            "|4932|Christopher Gordon|634 Strong Mounta...| green|      1981-01-08TEST| 735110584|     False|      7246.2|\n",
            "| 216|     Jason Carroll|564 Ann Bridge Su...|  gray|      1994-06-11TEST|1267611670|     False|      3178.0|\n",
            "|1322|        Corey Cook|                null|  navy| 1985-03-08 03:01:55|1368804791|     False|  411.914031|\n",
            "|9297|  Matthew Williams|                null|  lime| 1974-05-07 21:40:05| 556685568|     False|7983.9418811|\n",
            "+----+------------------+--------------------+------+--------------------+----------+----------+------------+\n",
            "only showing top 10 rows\n",
            "\n"
          ],
          "name": "stdout"
        }
      ]
    },
    {
      "cell_type": "code",
      "metadata": {
        "id": "EzoOkSKN8Rla"
      },
      "source": [
        "# csv_sdf.select(F.countDistinct(\"id\").alias(\"unique_id_count\")).show()\n",
        "# csv_sdf.select(\"is_claimed\").distinct().show(10)\n",
        "# csv_sdf.groupBy('created_at').count().where(\"count > 25\").show(50)"
      ],
      "execution_count": 17,
      "outputs": []
    },
    {
      "cell_type": "markdown",
      "metadata": {
        "id": "CTidkwrSAuUq"
      },
      "source": [
        "# **Data Cleaning, Transformation and PII data Masking **\n",
        "\n",
        "> 1. (For CSV Dataset)\n",
        "\n",
        "\n",
        "\n",
        "The developed ETL framework should have the following features:\n",
        "\n",
        "● clear data transformation and cleaning functions\n",
        "\n",
        "● extendable to allow ingestion of new raw data sources\n",
        "\n",
        "● extendable to allow loading into new data stores\n",
        "\n",
        "    ○ e.g. storing the output in an object store instead of a SQL database\n",
        "\n",
        "● consist of modular and reusable components\n",
        "\n",
        "● incorporates unit tests\n",
        "\n",
        "● logging\n",
        "\n"
      ]
    },
    {
      "cell_type": "code",
      "metadata": {
        "colab": {
          "base_uri": "https://localhost:8080/"
        },
        "id": "qKjKFbKMetfh",
        "outputId": "18dc0a7e-6c95-448c-af5c-fc130f6b43bf"
      },
      "source": [
        "# Get an idea for range of CSV dataset\n",
        "csv_sdf.describe().show()"
      ],
      "execution_count": 18,
      "outputs": [
        {
          "output_type": "stream",
          "text": [
            "+-------+----------------+------------+--------------------+-------+-------------------+-------------------+----------+------------------+\n",
            "|summary|              id|        name|             address|  color|         created_at|         last_login|is_claimed|       paid_amount|\n",
            "+-------+----------------+------------+--------------------+-------+-------------------+-------------------+----------+------------------+\n",
            "|  count|         4000000|     4000000|             3750024|4000000|            4000000|            4000000|   3499498|           4000000|\n",
            "|   mean|     5002.297927|        null|                null|   null|               null|8.055214408093956E8|      null|2499.9453875717863|\n",
            "| stddev|2887.03672341837|        null|                null|   null|               null|4.651463472266512E8|      null| 2204.931224065069|\n",
            "|    min|               0|Aaron Abbott|000 Aaron Corner ...|   aqua|1970-01-01 00:02:30|                 63|     False|               0.0|\n",
            "|    max|            9999|      Zoe Yu|Unit 9999 Box 892...| yellow|         not a date|         1611853894|     truee|             pyint|\n",
            "+-------+----------------+------------+--------------------+-------+-------------------+-------------------+----------+------------------+\n",
            "\n"
          ],
          "name": "stdout"
        }
      ]
    },
    {
      "cell_type": "code",
      "metadata": {
        "colab": {
          "base_uri": "https://localhost:8080/"
        },
        "id": "zQCMxm0TYlad",
        "outputId": "0260a6b6-3bb8-4beb-f795-2f5bbaa8e3a4"
      },
      "source": [
        "# Check the count of nulls in each column\n",
        "nulls_count_check(csv_sdf)"
      ],
      "execution_count": 19,
      "outputs": [
        {
          "output_type": "stream",
          "text": [
            "+---+----+-------+-----+----------+----------+----------+-----------+\n",
            "| id|name|address|color|created_at|last_login|is_claimed|paid_amount|\n",
            "+---+----+-------+-----+----------+----------+----------+-----------+\n",
            "|  0|   0| 249976|    0|         0|         0|    500502|          0|\n",
            "+---+----+-------+-----+----------+----------+----------+-----------+\n",
            "\n"
          ],
          "name": "stdout"
        }
      ]
    },
    {
      "cell_type": "code",
      "metadata": {
        "id": "yxBG28D44cxU"
      },
      "source": [
        "# As all columns are of String Type, apply trim operation on all columns\n",
        "for c in csv_sdf.columns:\n",
        "    csv_sdf = csv_sdf.withColumn(c,F.trim(F.col(c)))"
      ],
      "execution_count": 20,
      "outputs": []
    },
    {
      "cell_type": "markdown",
      "metadata": {
        "id": "mE-iaRUJEjXH"
      },
      "source": [
        "**As per the requirement, data from CSV file to be loaded in SQL database table must meet the\n",
        "following requirements:**\n",
        "\n",
        "- each row must have a unique identifier\n",
        "- Columns created_at and last_login must be of type timestamp\n",
        "- Column is_claimed must be of type boolean\n",
        "- Column paid_amount must be of type numeric with 2 decimal places\n",
        "- Personally Identifiable Information (PII) or sensitive data should be\n",
        "masked where applicable\n"
      ]
    },
    {
      "cell_type": "code",
      "metadata": {
        "colab": {
          "base_uri": "https://localhost:8080/"
        },
        "id": "3iS6eWU9X1yf",
        "outputId": "e24a3807-1dce-4db1-b5b2-70fa98eea37b"
      },
      "source": [
        "# Identify non-numeric values in paid_amount column \n",
        "csv_sdf.select(\"paid_amount\").filter(F.col(\"paid_amount\").rlike(\"^[a-zA-Z]*$\")).groupBy(\"paid_amount\").count().show(10)"
      ],
      "execution_count": 21,
      "outputs": [
        {
          "output_type": "stream",
          "text": [
            "+-----------+------+\n",
            "|paid_amount| count|\n",
            "+-----------+------+\n",
            "|       None|249830|\n",
            "|      pyint|250006|\n",
            "|       null|249582|\n",
            "+-----------+------+\n",
            "\n"
          ],
          "name": "stdout"
        }
      ]
    },
    {
      "cell_type": "code",
      "metadata": {
        "id": "qdIVGo1Uccrb"
      },
      "source": [
        "# Convert these Non-Numberic values to null in paid_amount columns and valid values to decimal(30,2)\n",
        "csv_sdf = csv_sdf.withColumn(\"paid_amount\",F.when(F.col(\"paid_amount\").rlike(\"^[a-zA-Z]*$\"), None).otherwise(F.col(\"paid_amount\").cast(DecimalType(30,2))))"
      ],
      "execution_count": 22,
      "outputs": []
    },
    {
      "cell_type": "code",
      "metadata": {
        "colab": {
          "base_uri": "https://localhost:8080/"
        },
        "id": "CsG7mBhvguKK",
        "outputId": "1a0b69c0-4d1a-40a7-8ff6-ef5ec8611611"
      },
      "source": [
        "# Identify Unique values in is_claimed column \n",
        "csv_sdf.select(\"is_claimed\").groupBy(\"is_claimed\").count().show(10)"
      ],
      "execution_count": 23,
      "outputs": [
        {
          "output_type": "stream",
          "text": [
            "+----------+-------+\n",
            "|is_claimed|  count|\n",
            "+----------+-------+\n",
            "|     False|1251112|\n",
            "|      null| 500502|\n",
            "|      True|1248492|\n",
            "|    fal_se| 500936|\n",
            "|     truee| 498958|\n",
            "+----------+-------+\n",
            "\n"
          ],
          "name": "stdout"
        }
      ]
    },
    {
      "cell_type": "code",
      "metadata": {
        "colab": {
          "base_uri": "https://localhost:8080/"
        },
        "id": "c2tvFP2VhdCy",
        "outputId": "5fe21bd5-2097-457c-ce9a-89bb1ead6dd5"
      },
      "source": [
        "# Clean is_claimed column and make sure type of column is Boolean\n",
        "csv_sdf = csv_sdf.withColumn(\"is_claimed\",\n",
        "                                 F.when(F.soundex(F.col(\"is_claimed\")) == 'T600','True')\\\n",
        "                                  .when(F.soundex(F.col(\"is_claimed\")) == 'F420','False')\\\n",
        "                                  .otherwise(F.col(\"is_claimed\")).cast(BooleanType()))\n",
        "\n",
        "# Check Unique values in is_claimed column after cleaning \n",
        "csv_sdf.select(\"is_claimed\").groupBy(\"is_claimed\").count().show(10)"
      ],
      "execution_count": 24,
      "outputs": [
        {
          "output_type": "stream",
          "text": [
            "+----------+-------+\n",
            "|is_claimed|  count|\n",
            "+----------+-------+\n",
            "|      null| 500502|\n",
            "|      true|1747450|\n",
            "|     false|1752048|\n",
            "+----------+-------+\n",
            "\n"
          ],
          "name": "stdout"
        }
      ]
    },
    {
      "cell_type": "code",
      "metadata": {
        "id": "33lXIj1KiUmb"
      },
      "source": [
        "# Convert last_login column values to Timestamp Type\n",
        "csv_sdf = csv_sdf.withColumn(\"last_login\", F.from_unixtime(F.col(\"last_login\"),\"yyyy-MM-dd HH:mm:ss\").cast(TimestampType()))"
      ],
      "execution_count": 25,
      "outputs": []
    },
    {
      "cell_type": "code",
      "metadata": {
        "id": "ND-Mf9rKmQ0Q"
      },
      "source": [
        "# Convert Color columns values with Initcap inbuilt Pyspark Function\n",
        "csv_sdf = csv_sdf.withColumn(\"color\",F.initcap(F.col(\"color\")).cast(StringType()))"
      ],
      "execution_count": 26,
      "outputs": []
    },
    {
      "cell_type": "code",
      "metadata": {
        "colab": {
          "base_uri": "https://localhost:8080/"
        },
        "id": "xHXm8ta5AqZQ",
        "outputId": "d2a14791-1f68-4d11-9f8c-490ff64aeec9"
      },
      "source": [
        "print(csv_sdf.dtypes)\n",
        "csv_sdf.show(10)"
      ],
      "execution_count": 27,
      "outputs": [
        {
          "output_type": "stream",
          "text": [
            "[('id', 'string'), ('name', 'string'), ('address', 'string'), ('color', 'string'), ('created_at', 'string'), ('last_login', 'timestamp'), ('is_claimed', 'boolean'), ('paid_amount', 'decimal(30,2)')]\n",
            "+----+------------------+--------------------+------+--------------------+-------------------+----------+-----------+\n",
            "|  id|              name|             address| color|          created_at|         last_login|is_claimed|paid_amount|\n",
            "+----+------------------+--------------------+------+--------------------+-------------------+----------+-----------+\n",
            "|6311|    Jennifer Green|7593 Juan Through...|  Lime|Monday, June 30th...|2008-02-05 05:52:15|      true|    5004.67|\n",
            "|3350|      Karen Grimes|60975 Jessica Squ...|  Lime|Monday, June 30th...|1976-03-17 04:26:09|      true|     893.40|\n",
            "|9031|       Calvin Cook|PSC 3989, Box 471...|Silver|      1986-06-23TEST|1989-10-04 04:17:42|      true|     266.60|\n",
            "|1131|    Peter Mcdowell|PSC 1868, Box 483...|  Aqua|      1998-07-17TEST|2009-06-13 09:32:41|      true|     674.54|\n",
            "|1889|  Mr. Ryan Sanchez|352 Simmons Circl...| White| 2006-05-09 13:29:58|2010-12-24 00:41:16|      true|       null|\n",
            "|1212|       Mark Obrien|51090 Susan Ferry...|  Navy| 1974-11-24 20:47:03|2014-01-09 10:13:32|      true|       null|\n",
            "|4932|Christopher Gordon|634 Strong Mounta...| Green|      1981-01-08TEST|1993-04-18 05:23:04|     false|    7246.20|\n",
            "| 216|     Jason Carroll|564 Ann Bridge Su...|  Gray|      1994-06-11TEST|2010-03-03 10:21:10|     false|    3178.00|\n",
            "|1322|        Corey Cook|                null|  Navy| 1985-03-08 03:01:55|2013-05-17 15:33:11|     false|     411.91|\n",
            "|9297|  Matthew Williams|                null|  Lime| 1974-05-07 21:40:05|1987-08-23 02:52:48|     false|    7983.94|\n",
            "+----+------------------+--------------------+------+--------------------+-------------------+----------+-----------+\n",
            "only showing top 10 rows\n",
            "\n"
          ],
          "name": "stdout"
        }
      ]
    },
    {
      "cell_type": "code",
      "metadata": {
        "colab": {
          "base_uri": "https://localhost:8080/"
        },
        "id": "Tu4qmC60Hh1w",
        "outputId": "21a22e26-7bad-45ee-c2b0-82498d59a2f6"
      },
      "source": [
        "# Analyse columns data in created_at column\n",
        "csv_sdf.groupBy('created_at').count().where(\"count > 25\").show(20)"
      ],
      "execution_count": 28,
      "outputs": [
        {
          "output_type": "stream",
          "text": [
            "+--------------------+------+\n",
            "|          created_at| count|\n",
            "+--------------------+------+\n",
            "|      1985-04-09TEST|    26|\n",
            "|Monday, June 30th...|250292|\n",
            "|          not a date|249856|\n",
            "|      1990-05-17TEST|    27|\n",
            "|      2018-12-19TEST|    26|\n",
            "|      2013-10-01TEST|    27|\n",
            "|         20001-01-01|249104|\n",
            "|      1981-04-15TEST|    26|\n",
            "|      2018-11-10TEST|    30|\n",
            "|      2007-09-18TEST|    29|\n",
            "|      1973-02-01TEST|    26|\n",
            "|      1973-08-05TEST|    27|\n",
            "|      1981-07-22TEST|    26|\n",
            "|      1985-08-06TEST|    31|\n",
            "|      2012-12-20TEST|    26|\n",
            "|      1991-02-27TEST|    27|\n",
            "|      2001-11-25TEST|    27|\n",
            "|      1997-06-20TEST|    27|\n",
            "|      1987-03-20TEST|    26|\n",
            "|      1999-06-13TEST|    26|\n",
            "+--------------------+------+\n",
            "only showing top 20 rows\n",
            "\n"
          ],
          "name": "stdout"
        }
      ]
    },
    {
      "cell_type": "markdown",
      "metadata": {
        "id": "VkQuICpHJB6k"
      },
      "source": [
        "> Insights : \n",
        "    As the data show quite a number of different values in created_at column. Need to apply some regex, clean few incorrect data values and set values having only alphabets as None"
      ]
    },
    {
      "cell_type": "code",
      "metadata": {
        "id": "Gz45dIY3v0dK"
      },
      "source": [
        "# Clean created_at column data\n",
        "\n",
        "# 1. Replace values with not of any date type pattern with null \n",
        "csv_sdf = csv_sdf.withColumn(\"created_at\", replace(F.col(\"created_at\"), \"not a date\"))\n",
        "\n",
        "# 2. Clean date values with random string embedded in it\n",
        "csv_sdf = csv_sdf.withColumn(\"created_at\", F.when(F.col('created_at').rlike(\"(TEST$)\"), F.regexp_replace(F.col('created_at'),r'(TEST$)','')).otherwise(F.col('created_at')))\\\n",
        "                 .withColumn(\"created_at\", F.when(F.col('created_at').rlike(\"(20001-01-01$)\"), F.regexp_replace(F.col('created_at'),r'(20001-01-01$)','2001-01-01')).otherwise(F.col('created_at')))"
      ],
      "execution_count": 29,
      "outputs": []
    },
    {
      "cell_type": "code",
      "metadata": {
        "id": "_HBtPjyrKYxY"
      },
      "source": [
        "# Parse different date formats and convert all values to Timestamp type\n",
        "csv_sdf = csv_sdf.withColumn(\"created_at\",func(F.col(\"created_at\")).cast(TimestampType()))"
      ],
      "execution_count": 30,
      "outputs": []
    },
    {
      "cell_type": "code",
      "metadata": {
        "colab": {
          "base_uri": "https://localhost:8080/"
        },
        "id": "LPihfhvvzw-X",
        "outputId": "c5208180-7d79-4d60-a079-61368fafe8ac"
      },
      "source": [
        "# Get all column names and it's types\n",
        "for col in csv_sdf.dtypes:\n",
        "    print(col[0]+\" \"+col[1])\n",
        "\n",
        "# Drop Duplicates before encrypting and masking the data\n",
        "print(\"CSV Dataset with duplicates\",shape_of_sdf(csv_sdf))\n",
        "csv_sdf = csv_sdf.drop_duplicates()\n",
        "\n",
        "print(\"CSV Dataset without duplicates\",shape_of_sdf(csv_sdf))"
      ],
      "execution_count": 31,
      "outputs": [
        {
          "output_type": "stream",
          "text": [
            "id string\n",
            "name string\n",
            "address string\n",
            "color string\n",
            "created_at timestamp\n",
            "last_login timestamp\n",
            "is_claimed boolean\n",
            "paid_amount decimal(30,2)\n",
            "CSV Dataset with duplicates Spark DF has 4000000 rows and 8 columns\n",
            "CSV Dataset without duplicates Spark DF has 4000000 rows and 8 columns\n"
          ],
          "name": "stdout"
        }
      ]
    },
    {
      "cell_type": "markdown",
      "metadata": {
        "id": "NzguasBhbm67"
      },
      "source": [
        "**Insights :** \n",
        "    There are no duplicate records in CSV dataset"
      ]
    },
    {
      "cell_type": "code",
      "metadata": {
        "id": "ABCOHkJNoXTk"
      },
      "source": [
        "# Mask PII Columns(name and address) data\n",
        "\n",
        "# Function to mask the columns\n",
        "def mask_func(colVal):\n",
        "    if (colVal is None) | (len(colVal) >= 16):\n",
        "        charList=list(colVal)\n",
        "        charList[4:12]='x'*8\n",
        "        return \"\".join(charList)\n",
        "    else:\n",
        "        return colVal\n",
        "\n",
        "# Create the UDF\n",
        "mask_func_udf = udf(mask_func, StringType())"
      ],
      "execution_count": 32,
      "outputs": []
    },
    {
      "cell_type": "code",
      "metadata": {
        "colab": {
          "base_uri": "https://localhost:8080/"
        },
        "id": "_ai0RAGfhTlg",
        "outputId": "6d8da571-221a-40f9-fbaa-b906d2b2975d"
      },
      "source": [
        "# Remove newline character from address column values\n",
        "csv_sdf = csv_sdf.withColumn(\"address\", F.regexp_replace(F.col(\"address\"), \"[\\n\\r]\", \" \"))\n",
        "\n",
        "# Mask the address sensitive information\n",
        "csv_sdf = csv_sdf.withColumn(\"address_l\", F.substring_index(csv_sdf.address, ',', 1))\\\n",
        "                 .withColumn(\"address_r\", F.substring_index(csv_sdf.address, ',', -1))\\\n",
        "                 .withColumn(\"address\", F.when(F.col('address').isNotNull(),F.concat(F.lit(\"XXXXXXXX\"), F.col(\"address_r\"))).otherwise(F.col('address')))\n",
        "\n",
        "csv_sdf = csv_sdf.drop('address_l','address_r')\n",
        "\n",
        "csv_sdf.show(10)"
      ],
      "execution_count": 33,
      "outputs": [
        {
          "output_type": "stream",
          "text": [
            "+----+---------------+-----------------+------+-------------------+-------------------+----------+-----------+\n",
            "|  id|           name|          address| color|         created_at|         last_login|is_claimed|paid_amount|\n",
            "+----+---------------+-----------------+------+-------------------+-------------------+----------+-----------+\n",
            "|   0|Krystal Cameron|XXXXXXXX MN 64529| Green|2017-04-28 15:30:32|2007-04-23 21:04:20|     false|     446.62|\n",
            "|   0|   Tracy Norris|     XXXXXXXXNull|  Gray|2007-06-23 15:59:38|1991-10-24 17:41:51|      true|      66.39|\n",
            "|   1|   Heather Hunt|XXXXXXXX TN 20280|  Lime|2003-06-01 00:00:00|1977-10-28 09:30:32|     false|    8000.47|\n",
            "|   1|   Heidi Wilcox|XXXXXXXX NV 20138|Maroon|2001-01-01 00:00:00|1981-09-02 15:59:47|     false|    1527.54|\n",
            "|  10|   Thomas Weiss|XXXXXXXX TN 60909| Black|1974-12-08 06:10:33|2017-03-04 09:54:11|      true|       null|\n",
            "|1000|    Cole Murphy|XXXXXXXX MN 88222|Yellow|1976-05-05 18:12:59|2000-10-25 09:53:36|     false|    2288.33|\n",
            "|1000|  Scott Collins|XXXXXXXX TN 74640| Green|2013-06-30 00:00:00|2015-06-28 16:17:04|     false|    2708.22|\n",
            "|1002|    Dana Vargas|XXXXXXXX MN 19458|Maroon|2013-09-30 00:00:00|1984-11-02 15:48:57|     false|    2556.50|\n",
            "|1002| Heather Mathis|XXXXXXXX FL 03265|Silver|1996-05-13 12:10:57|1971-05-14 22:44:52|     false|    3923.87|\n",
            "|1002|   Joyce Cox MD|XXXXXXXX KY 76236| White|2017-06-02 04:09:43|1981-11-06 03:37:50|     false|    5908.00|\n",
            "+----+---------------+-----------------+------+-------------------+-------------------+----------+-----------+\n",
            "only showing top 10 rows\n",
            "\n"
          ],
          "name": "stdout"
        }
      ]
    },
    {
      "cell_type": "code",
      "metadata": {
        "id": "qOao0rzcjIp3"
      },
      "source": [
        "# Encrypt the name column values\n",
        "csv_sdf = csv_sdf.withColumn(\"name\",encrypt_udf(F.col(\"name\")))"
      ],
      "execution_count": 34,
      "outputs": []
    },
    {
      "cell_type": "code",
      "metadata": {
        "id": "uFSxuU7l3IoT"
      },
      "source": [
        "# Create Unique_id column for each record\n",
        "csv_sdf = csv_sdf.withColumn(\"unique_id\",uuid_udf())"
      ],
      "execution_count": 35,
      "outputs": []
    },
    {
      "cell_type": "code",
      "metadata": {
        "colab": {
          "base_uri": "https://localhost:8080/"
        },
        "id": "aJXYZu0d8moF",
        "outputId": "95638b10-481c-406c-ca47-921d6f2510b4"
      },
      "source": [
        "# Handling NaN and NaT values before uploading in database\n",
        "csv_sdf=csv_sdf.na.replace('NaN',None)\n",
        "csv_sdf=csv_sdf.na.replace('NaT',None)\n",
        "\n",
        "csv_sdf.where(\"id='2939'\").show(10)"
      ],
      "execution_count": 36,
      "outputs": [
        {
          "output_type": "stream",
          "text": [
            "+----+--------------------+-----------------+-------+-------------------+-------------------+----------+-----------+--------------------+\n",
            "|  id|                name|          address|  color|         created_at|         last_login|is_claimed|paid_amount|           unique_id|\n",
            "+----+--------------------+-----------------+-------+-------------------+-------------------+----------+-----------+--------------------+\n",
            "|2939|89e92307e0c77507f...|XXXXXXXX VA 18718|  Green|1975-07-31 09:36:29|2014-03-03 03:07:58|      true|       null|4c1bb3f1-e000-4a8...|\n",
            "|2939|81561e43035a25ecc...|XXXXXXXX NH 14335| Yellow|1970-02-21 14:33:27|1993-06-17 02:53:04|      null|       null|cf52c977-a186-411...|\n",
            "|2939|db5f5184a4074d2d6...|XXXXXXXX SC 03397|   Teal|2013-09-30 00:00:00|1973-04-22 03:52:21|      true|     987.59|09ffeda9-8f2d-49a...|\n",
            "|2939|9999b0a0d308b02b2...|XXXXXXXX WI 36470|Fuchsia|2015-12-01 21:23:13|1976-08-13 10:22:50|      null|       6.95|f80e4343-2ef3-467...|\n",
            "|2939|3b9b181be023336e8...|     XXXXXXXXNone|  Olive|1994-01-03 02:22:06|1973-10-29 07:42:41|      true|    2375.40|6b482049-a87d-470...|\n",
            "|2939|cfe6fe9448a3b5bcc...|XXXXXXXX KS 65687|   Blue|2016-11-07 16:07:21|1995-07-20 15:47:32|     false|       null|fd89982f-2e3c-44d...|\n",
            "|2939|8af418d94fd8fcf5f...|             null|  Olive|1981-11-23 20:35:29|1979-02-07 05:39:00|     false|    1997.41|9a6da654-2974-4af...|\n",
            "|2939|b643366ceb176c2b2...|XXXXXXXX SD 33776|  Olive|2013-06-30 00:00:00|2018-05-11 14:30:48|      true|     802.19|1c399c1c-d7c0-4f3...|\n",
            "|2939|9de9420a053ffe08b...|             null|   Lime|1973-03-24 19:50:19|2009-12-04 03:53:19|      true|    2415.63|e25356dc-3f5f-4c4...|\n",
            "|2939|f215b3a0329fa5bda...|     XXXXXXXXNull|   Lime|1974-05-09 22:23:54|2000-10-04 09:26:30|     false|    4370.00|ba99341a-27b4-4fb...|\n",
            "+----+--------------------+-----------------+-------+-------------------+-------------------+----------+-----------+--------------------+\n",
            "only showing top 10 rows\n",
            "\n"
          ],
          "name": "stdout"
        }
      ]
    },
    {
      "cell_type": "code",
      "metadata": {
        "colab": {
          "base_uri": "https://localhost:8080/"
        },
        "id": "apJpBh8DwEof",
        "outputId": "a81a69cc-ec08-4762-c153-72b8c5d7b3b4"
      },
      "source": [
        "# Final Shape of dataframe to be loaded in Table\n",
        "print(shape_of_sdf(csv_sdf))"
      ],
      "execution_count": 37,
      "outputs": [
        {
          "output_type": "stream",
          "text": [
            "Spark DF has 4000000 rows and 9 columns\n"
          ],
          "name": "stdout"
        }
      ]
    },
    {
      "cell_type": "code",
      "metadata": {
        "id": "pTJWo1x3OLVb"
      },
      "source": [
        "# Setup Database Connection\n",
        "driver = '{ODBC Driver 17 for SQL Server}'\n",
        "db_host = '<Enter the host name>'\n",
        "db_port = 1433\n",
        "database = 'Distributors'\n",
        "user = '<Enter username>'\n",
        "pwd = '<Enter Password>'\n",
        " \n",
        "conn_string = 'driver={0}; server={1}; database={2}; uid={3}; pwd={4}'.format(driver,\n",
        "                                                                              db_host,\n",
        "                                                                              database,\n",
        "                                                                              user,\n",
        "                                                                              pwd\n",
        "                                                                        )\n",
        " \n",
        "conn = pyodbc.connect(conn_string)"
      ],
      "execution_count": null,
      "outputs": []
    },
    {
      "cell_type": "code",
      "metadata": {
        "id": "h-gvxdfSsV2x"
      },
      "source": [
        "# Use the session to create a table in SQL Database\n",
        "cursor = conn.cursor()\n",
        "\n",
        "cursor.execute('''\n",
        "CREATE TABLE dbo.test (\n",
        "    id nvarchar(256) NOT NULL,\n",
        "    name nvarchar(256) NULL,\n",
        "    address nvarchar(256) NULL,\n",
        "    color nvarchar(256) NULL,\n",
        "    created_at datetime,\n",
        "    last_login datetime,\n",
        "    is_claimed bit NULL,\n",
        "    paid_amount decimal(30,2),\n",
        "    unique_id nvarchar(256) PRIMARY KEY\n",
        "    );\n",
        "''')\n",
        "conn.commit()"
      ],
      "execution_count": null,
      "outputs": []
    },
    {
      "cell_type": "code",
      "metadata": {
        "id": "BIZMeR88smpj"
      },
      "source": [
        "# Write the data to SQL Server Database\n",
        "# 1. CSV Data\n",
        "# Insert data in [scf.test] table of SQL Server Database\n",
        "csv_sdf.write.mode(\"append\") \\\n",
        "        .format(\"jdbc\") \\\n",
        "        .option(\"url\", \"jdbc:sqlserver://\"+db_host+\":1433;databaseName=Distributors\") \\\n",
        "        .option(\"dbtable\", 'dbo.test') \\\n",
        "        .option(\"user\",user) \\\n",
        "        .option(\"password\",pwd) \\\n",
        "        .save()"
      ],
      "execution_count": null,
      "outputs": []
    },
    {
      "cell_type": "code",
      "metadata": {
        "id": "m74XpKdcsoqk"
      },
      "source": [
        "# Read the sample data from Loaded data\n",
        "cursor.execute('SELECT top 10 * FROM dbo.test;')\n",
        "for row in cursor:\n",
        "    print(row)"
      ],
      "execution_count": null,
      "outputs": []
    },
    {
      "cell_type": "code",
      "metadata": {
        "id": "AUIFnsD1tN08"
      },
      "source": [
        "# Drop the Dataframe to release the memory\n",
        "del csv_sdf"
      ],
      "execution_count": 108,
      "outputs": []
    },
    {
      "cell_type": "code",
      "metadata": {
        "colab": {
          "base_uri": "https://localhost:8080/"
        },
        "id": "30BUnT5vtLFP",
        "outputId": "f70f4ff5-5cdc-428e-a203-241c93b8b20a"
      },
      "source": [
        "# 2. Data Sourcing from JSON file type\n",
        "json_sdf = spark.read.json(\"/content/drive/MyDrive/datium_etl/data/test.json\")\n",
        "print(shape_of_sdf(json_sdf))\n",
        "\n",
        "# Analyse the schema of the JSON File\n",
        "json_sdf.printSchema()"
      ],
      "execution_count": 38,
      "outputs": [
        {
          "output_type": "stream",
          "text": [
            "Spark DF has 100000 rows and 9 columns\n",
            "root\n",
            " |-- car_brand: string (nullable = true)\n",
            " |-- car_license_plate: string (nullable = true)\n",
            " |-- created_at: string (nullable = true)\n",
            " |-- is_active: boolean (nullable = true)\n",
            " |-- jobs_history: array (nullable = true)\n",
            " |    |-- element: struct (containsNull = true)\n",
            " |    |    |-- employer: string (nullable = true)\n",
            " |    |    |-- end: string (nullable = true)\n",
            " |    |    |-- id: string (nullable = true)\n",
            " |    |    |-- is_fulltime: boolean (nullable = true)\n",
            " |    |    |-- occupation: string (nullable = true)\n",
            " |    |    |-- start: string (nullable = true)\n",
            " |-- logged_at: long (nullable = true)\n",
            " |-- updated_at: string (nullable = true)\n",
            " |-- user_details: struct (nullable = true)\n",
            " |    |-- address: string (nullable = true)\n",
            " |    |-- dob: string (nullable = true)\n",
            " |    |-- name: string (nullable = true)\n",
            " |    |-- national_id: string (nullable = true)\n",
            " |    |-- password: string (nullable = true)\n",
            " |    |-- telephone_numbers: array (nullable = true)\n",
            " |    |    |-- element: string (containsNull = true)\n",
            " |    |-- username: string (nullable = true)\n",
            " |-- user_id: string (nullable = true)\n",
            "\n"
          ],
          "name": "stdout"
        }
      ]
    },
    {
      "cell_type": "code",
      "metadata": {
        "colab": {
          "base_uri": "https://localhost:8080/"
        },
        "id": "5AnAnjxMMjOJ",
        "outputId": "b9719f56-ccab-4cfe-b034-7d551932cd63"
      },
      "source": [
        "# Cleaning, Tranformation for JSON File Data\n",
        "\"\"\"\n",
        "JSON records are read from the file path, and the global schema is computed. \n",
        "This schema is then passed while creating an object of the JsonFlatten class that\n",
        "initializes all class variables. When the compute function is called from the object of JsonFlatten class, \n",
        "the class variables are updated.\n",
        "\"\"\"\n",
        "json_schema = json_sdf.schema\n",
        "af = JsonFlatten(json_schema)\n",
        "\n",
        "\"\"\"\n",
        "Compute function performs the required computation and gets all the resources\n",
        "needed for further process of selecting and exploding fields\n",
        "\"\"\"\n",
        "af.compute()\n",
        "\n",
        "df1 = json_sdf\n",
        "df1.show(3)"
      ],
      "execution_count": 39,
      "outputs": [
        {
          "output_type": "stream",
          "text": [
            "+---------+-----------------+--------------------+---------+--------------------+----------+--------------------+--------------------+--------------------+\n",
            "|car_brand|car_license_plate|          created_at|is_active|        jobs_history| logged_at|          updated_at|        user_details|             user_id|\n",
            "+---------+-----------------+--------------------+---------+--------------------+----------+--------------------+--------------------+--------------------+\n",
            "|     null|             null|2003-09-19T13:43:...|     null|[[, 1997-10-02, 8...| 881885008|1986-01-02T09:49:...|[208 Ewing Pine\n",
            "N...|e9703a66-6556-4b4...|\n",
            "|     null|             null|2002-10-08T09:14:...|     null|[[, 2015-08-04, b...|  77028400|1984-08-26T14:42:...|[17031 Justin Pla...|aa246388-104c-44f...|\n",
            "|     null|             null|1993-11-22T08:32:...|     null|[[, 2018-03-30, 8...|1282838750|2010-12-31T12:18:...|[8328 Ryan Overpa...|86af3e4d-6c57-424...|\n",
            "+---------+-----------------+--------------------+---------+--------------------+----------+--------------------+--------------------+--------------------+\n",
            "only showing top 3 rows\n",
            "\n"
          ],
          "name": "stdout"
        }
      ]
    },
    {
      "cell_type": "code",
      "metadata": {
        "colab": {
          "base_uri": "https://localhost:8080/"
        },
        "id": "xJoR-xN1MjXv",
        "outputId": "a6a11156-1263-4c8a-d8ea-cc7821f45b11"
      },
      "source": [
        "\"\"\"\n",
        "To open/explode, all first-level columns are selected with the columns in rest which haven’t appeared already. \n",
        "A counter is kept on the target names which counts the duplicate target column names. Any target column name \n",
        "having a count greater than 1 is renamed as <path_to_target_field> with each level separated by a > . \n",
        "All paths to those fields are added to the visited set of paths.\n",
        "\"\"\"\n",
        "\n",
        "visited = set([f'.{column}' for column in df1.columns])\n",
        "duplicate_target_counter = Counter(af.all_fields.values())\n",
        "cols_to_select = df1.columns\n",
        "for rest_col in af.rest:\n",
        "    if rest_col not in visited:\n",
        "        cols_to_select += [rest_col[1:]] if (duplicate_target_counter[af.all_fields[rest_col]]==1 and af.all_fields[rest_col] not in df1.columns) else [col(rest_col[1:]).alias(f\"{rest_col[1:].replace('.', '>')}\")]\n",
        "        visited.add(rest_col)\n",
        "\n",
        "df1 = df1.select(cols_to_select)\n",
        "df1.show(3)"
      ],
      "execution_count": 40,
      "outputs": [
        {
          "output_type": "stream",
          "text": [
            "+---------+-----------------+--------------------+---------+--------------------+----------+--------------------+--------------------+--------------------+----------+--------------------+-----------+--------------------+----------+------------------+\n",
            "|car_brand|car_license_plate|          created_at|is_active|        jobs_history| logged_at|          updated_at|        user_details|             user_id|       dob|            username|national_id|             address|  password|              name|\n",
            "+---------+-----------------+--------------------+---------+--------------------+----------+--------------------+--------------------+--------------------+----------+--------------------+-----------+--------------------+----------+------------------+\n",
            "|     null|             null|2003-09-19T13:43:...|     null|[[, 1997-10-02, 8...| 881885008|1986-01-02T09:49:...|[208 Ewing Pine\n",
            "N...|e9703a66-6556-4b4...|1983-05-15|bboyle@garza-shel...|199-43-8140|208 Ewing Pine\n",
            "No...|M!*(W7SpoU|    Joshua Webster|\n",
            "|     null|             null|2002-10-08T09:14:...|     null|[[, 2015-08-04, b...|  77028400|1984-08-26T14:42:...|[17031 Justin Pla...|aa246388-104c-44f...|1996-09-24|hannahrios@baker-...|765-08-4594|17031 Justin Plaz...|0xw3M+wl@0|Samantha Hernandez|\n",
            "|     null|             null|1993-11-22T08:32:...|     null|[[, 2018-03-30, 8...|1282838750|2010-12-31T12:18:...|[8328 Ryan Overpa...|86af3e4d-6c57-424...|1971-12-20|sethcarney@willia...|876-44-0269|8328 Ryan Overpas...|s5IU^0Bc)s| Mr. John Mack PhD|\n",
            "+---------+-----------------+--------------------+---------+--------------------+----------+--------------------+--------------------+--------------------+----------+--------------------+-----------+--------------------+----------+------------------+\n",
            "only showing top 3 rows\n",
            "\n"
          ],
          "name": "stdout"
        }
      ]
    },
    {
      "cell_type": "code",
      "metadata": {
        "colab": {
          "base_uri": "https://localhost:8080/"
        },
        "id": "C8xvgsHKMjap",
        "outputId": "734bac88-94d1-4fb9-ed42-5bcb48d86a47"
      },
      "source": [
        "if af.order:\n",
        "    for key in af.order:\n",
        "        column = key.split('.')[-1]\n",
        "        if af.bottom_to_top[key]:\n",
        "            #########\n",
        "            #values for the column in bottom_to_top dict exists if it is an array type\n",
        "            #########\n",
        "            df1 = df1.select('*', F.explode_outer(F.col(column)).alias(f\"{column}_exploded\")).drop(column)\n",
        "            data_type = df1.select(f\"{column}_exploded\").schema.fields[0].dataType\n",
        "            if not (isinstance(data_type, StructType) or isinstance(data_type, ArrayType)):\n",
        "                df1 = df1.withColumnRenamed(f\"{column}_exploded\", column if duplicate_target_counter[af.all_fields[key]]<=1 else key[1:].replace('.', '>'))\n",
        "                visited.add(key)\n",
        "            else:\n",
        "                #grabbing all paths to columns after explode\n",
        "                cols_in_array_col = set(map(lambda x: f'{key}.{x}', df1.select(f'{column}_exploded.*').columns))\n",
        "                #retrieving unvisited columns\n",
        "                cols_to_select_set = cols_in_array_col.difference(visited)\n",
        "                all_cols_to_select_set = set(af.bottom_to_top[key])\n",
        "                #check done for duplicate column name & path\n",
        "                cols_to_select_list = list(map(lambda x: f\"{column}_exploded{'.'.join(x.split(key)[1:])}\" if (duplicate_target_counter[af.all_fields[x]]<=1 and x.split('.')[-1] not in df1.columns) else col(f\"{column}_exploded{'.'.join(x.split(key)[1:])}\").alias(f\"{x[1:].replace('.', '>')}\"), list(all_cols_to_select_set)))\n",
        "                #updating visited set\n",
        "                visited.update(cols_to_select_set)\n",
        "                rem = list(map(lambda x: f\"{column}_exploded{'.'.join(x.split(key)[1:])}\", list(cols_to_select_set.difference(all_cols_to_select_set))))\n",
        "                df1 = df1.select(df1.columns + cols_to_select_list + rem).drop(f\"{column}_exploded\")        \n",
        "        else:\n",
        "            #########\n",
        "            #values for the column in bottom_to_top dict do not exist if it is a struct type / array type containing a string type\n",
        "            #########\n",
        "            #grabbing all paths to columns after opening\n",
        "            cols_in_array_col = set(map(lambda x: f'{key}.{x}', df1.selectExpr(f'{column}.*').columns))\n",
        "            #retrieving unvisited columns\n",
        "            cols_to_select_set = cols_in_array_col.difference(visited)\n",
        "            #check done for duplicate column name & path\n",
        "            cols_to_select_list = list(map(lambda x: f\"{column}.{x.split('.')[-1]}\" if (duplicate_target_counter[x.split('.')[-1]]<=1 and x.split('.')[-1] not in df1.columns) else col(f\"{column}.{x.split('.')[-1]}\").alias(f\"{x[1:].replace('.', '>')}\"), list(cols_to_select_set)))\n",
        "            #updating visited set\n",
        "            visited.update(cols_to_select_set)\n",
        "            df1 = df1.select(df1.columns + cols_to_select_list).drop(f\"{column}\")\n",
        "\n",
        "final_sdf = df1.select([field[1:].replace('.', '>') if duplicate_target_counter[af.all_fields[field]]>1 else af.all_fields[field] for field in af.all_fields])\n",
        "\n",
        "final_sdf.show(5)"
      ],
      "execution_count": 41,
      "outputs": [
        {
          "output_type": "stream",
          "text": [
            "+---------+-----------------+--------------------+---------+--------+----------+--------------------+-----------+--------------------+----------+----------+--------------------+--------------------+----------+------------------+-----------+----------+--------------------+--------------------+--------------------+\n",
            "|car_brand|car_license_plate|          created_at|is_active|employer|       end|                  id|is_fulltime|          occupation|     start| logged_at|          updated_at|             address|       dob|              name|national_id|  password|   telephone_numbers|            username|             user_id|\n",
            "+---------+-----------------+--------------------+---------+--------+----------+--------------------+-----------+--------------------+----------+----------+--------------------+--------------------+----------+------------------+-----------+----------+--------------------+--------------------+--------------------+\n",
            "|     null|             null|2003-09-19T13:43:...|     null|    null|1997-10-02|8c48a084-27d7-4f1...|      false|        Set designer|1996-12-26| 881885008|1986-01-02T09:49:...|208 Ewing Pine\n",
            "No...|1983-05-15|    Joshua Webster|199-43-8140|M!*(W7SpoU|001-640-924-3637x268|bboyle@garza-shel...|e9703a66-6556-4b4...|\n",
            "|     null|             null|2003-09-19T13:43:...|     null|    null|1997-10-02|8c48a084-27d7-4f1...|      false|        Set designer|1996-12-26| 881885008|1986-01-02T09:49:...|208 Ewing Pine\n",
            "No...|1983-05-15|    Joshua Webster|199-43-8140|M!*(W7SpoU|001-127-583-8338x...|bboyle@garza-shel...|e9703a66-6556-4b4...|\n",
            "|     null|             null|2002-10-08T09:14:...|     null|    null|2015-08-04|b9d4fc47-0e53-449...|       true|      Chief of Staff|1991-09-12|  77028400|1984-08-26T14:42:...|17031 Justin Plaz...|1996-09-24|Samantha Hernandez|765-08-4594|0xw3M+wl@0|        840.808.9845|hannahrios@baker-...|aa246388-104c-44f...|\n",
            "|     null|             null|2002-10-08T09:14:...|     null|    null|2015-08-04|b9d4fc47-0e53-449...|       true|      Chief of Staff|1991-09-12|  77028400|1984-08-26T14:42:...|17031 Justin Plaz...|1996-09-24|Samantha Hernandez|765-08-4594|0xw3M+wl@0|001-558-896-0120x701|hannahrios@baker-...|aa246388-104c-44f...|\n",
            "|     null|             null|1993-11-22T08:32:...|     null|    null|2018-03-30|818289aa-0a0d-45a...|       true|Clinical cytogene...|1970-10-28|1282838750|2010-12-31T12:18:...|8328 Ryan Overpas...|1971-12-20| Mr. John Mack PhD|876-44-0269|s5IU^0Bc)s|001-672-539-5662x...|sethcarney@willia...|86af3e4d-6c57-424...|\n",
            "+---------+-----------------+--------------------+---------+--------+----------+--------------------+-----------+--------------------+----------+----------+--------------------+--------------------+----------+------------------+-----------+----------+--------------------+--------------------+--------------------+\n",
            "only showing top 5 rows\n",
            "\n"
          ],
          "name": "stdout"
        }
      ]
    },
    {
      "cell_type": "code",
      "metadata": {
        "colab": {
          "base_uri": "https://localhost:8080/"
        },
        "id": "VK2rJQA4MjgQ",
        "outputId": "39847554-1a47-407e-c9a7-e480933b7bce"
      },
      "source": [
        "# Check the count of nulls in each column\n",
        "final_sdf.select([F.count(F.when(F.isnull(c), c)).alias(c) for c in final_sdf.columns]).show(5)"
      ],
      "execution_count": 42,
      "outputs": [
        {
          "output_type": "stream",
          "text": [
            "+---------+-----------------+----------+---------+--------+------+---+-----------+----------+-----+---------+----------+-------+------+----+-----------+--------+-----------------+--------+-------+\n",
            "|car_brand|car_license_plate|created_at|is_active|employer|   end| id|is_fulltime|occupation|start|logged_at|updated_at|address|   dob|name|national_id|password|telephone_numbers|username|user_id|\n",
            "+---------+-----------------+----------+---------+--------+------+---+-----------+----------+-----+---------+----------+-------+------+----+-----------+--------+-----------------+--------+-------+\n",
            "|   399768|           399768|         0|   410933|  266577|166535|  0|     255704|         0|    0|        0|         0| 366414|366414|   0|          0|       0|            33344|       0|      0|\n",
            "+---------+-----------------+----------+---------+--------+------+---+-----------+----------+-----+---------+----------+-------+------+----+-----------+--------+-----------------+--------+-------+\n",
            "\n"
          ],
          "name": "stdout"
        }
      ]
    },
    {
      "cell_type": "code",
      "metadata": {
        "id": "tnfGnnVVn368"
      },
      "source": [
        "# Remove newline character from address column values\n",
        "final_sdf = final_sdf.withColumn(\"address\", F.regexp_replace(F.col(\"address\"), \"[\\n\\r]\", \" \"))\n",
        "\n",
        "# Mask the address sensitive information\n",
        "final_sdf = final_sdf.withColumn(\"address_l\", F.substring_index(final_sdf.address, ',', 1))\\\n",
        "                 .withColumn(\"address_r\", F.substring_index(final_sdf.address, ',', -1))\\\n",
        "                 .withColumn(\"address\", F.when(F.col('address').isNotNull(),F.concat(F.lit(\"XXXXXXXX\"), F.col(\"address_r\"))).otherwise(F.col('address')))\n"
      ],
      "execution_count": 43,
      "outputs": []
    },
    {
      "cell_type": "code",
      "metadata": {
        "colab": {
          "base_uri": "https://localhost:8080/"
        },
        "id": "VF8Eg4BV0bvz",
        "outputId": "babe5607-9274-438d-d5ff-19d7bf46c7e4"
      },
      "source": [
        "# Split dataframes as per SQL Table Structure after complete JSON file explode\n",
        "user_sdf = final_sdf.select('user_id','username','password','national_id','name','dob','address','created_at','logged_at','updated_at','is_active','car_brand','car_license_plate')\n",
        "print(shape_of_sdf(user_sdf))\n",
        "\n",
        "job_history_sdf = final_sdf.select('user_id','employer','end','id','is_fulltime','occupation','start')\n",
        "print(shape_of_sdf(user_sdf))\n",
        "\n",
        "tel_numbers_sdf = final_sdf.select('user_id','telephone_numbers')\n",
        "print(shape_of_sdf(tel_numbers_sdf))"
      ],
      "execution_count": 44,
      "outputs": [
        {
          "output_type": "stream",
          "text": [
            "Spark DF has 433112 rows and 13 columns\n",
            "Spark DF has 433112 rows and 13 columns\n",
            "Spark DF has 433112 rows and 2 columns\n"
          ],
          "name": "stdout"
        }
      ]
    },
    {
      "cell_type": "code",
      "metadata": {
        "colab": {
          "base_uri": "https://localhost:8080/"
        },
        "id": "GLbrIeB241Vt",
        "outputId": "7ea7db5b-c7e5-4821-cf21-cc70024b8e13"
      },
      "source": [
        "# Check some records where telephone number is not null\n",
        "tel_numbers_sdf.where(\"telephone_numbers is not null\").show(10)"
      ],
      "execution_count": 45,
      "outputs": [
        {
          "output_type": "stream",
          "text": [
            "+--------------------+--------------------+\n",
            "|             user_id|   telephone_numbers|\n",
            "+--------------------+--------------------+\n",
            "|e9703a66-6556-4b4...|001-640-924-3637x268|\n",
            "|e9703a66-6556-4b4...|001-127-583-8338x...|\n",
            "|aa246388-104c-44f...|        840.808.9845|\n",
            "|aa246388-104c-44f...|001-558-896-0120x701|\n",
            "|86af3e4d-6c57-424...|001-672-539-5662x...|\n",
            "|86af3e4d-6c57-424...|        310-693-9384|\n",
            "|a610bdb4-8d67-47b...|+1-098-016-5290x7...|\n",
            "|a610bdb4-8d67-47b...| +1-348-828-2586x800|\n",
            "|2bde2981-4bd8-4da...|   (168)847-2979x521|\n",
            "|2bde2981-4bd8-4da...| (975)922-1242x44183|\n",
            "+--------------------+--------------------+\n",
            "only showing top 10 rows\n",
            "\n"
          ],
          "name": "stdout"
        }
      ]
    },
    {
      "cell_type": "code",
      "metadata": {
        "id": "flnjMqmW3x2z"
      },
      "source": [
        "# Clean, transform and mask tel_numbers_sdf\n",
        "tel_numbers_sdf = tel_numbers_sdf.withColumn(\"telephone_numbers\",F.regexp_replace(F.col(\"telephone_numbers\"), \"\\\\d{2,}\", \" * \"))"
      ],
      "execution_count": 46,
      "outputs": []
    },
    {
      "cell_type": "code",
      "metadata": {
        "colab": {
          "base_uri": "https://localhost:8080/"
        },
        "id": "8eLleAyoo0X9",
        "outputId": "d8673745-2e38-4ade-f011-60686acc41e2"
      },
      "source": [
        "# Drop Duplicates\n",
        "print(\"Dataset with duplicates\",shape_of_sdf(tel_numbers_sdf))\n",
        "tel_numbers_sdf = tel_numbers_sdf.drop_duplicates()\n",
        "print(\"Dataset without duplicates\",shape_of_sdf(tel_numbers_sdf))\n",
        "\n",
        "# Take a look at sample dataset\n",
        "tel_numbers_sdf.show(10)"
      ],
      "execution_count": 47,
      "outputs": [
        {
          "output_type": "stream",
          "text": [
            "Dataset with duplicates Spark DF has 433112 rows and 2 columns\n",
            "Dataset without duplicates Spark DF has 233158 rows and 2 columns\n",
            "+--------------------+-------------------+\n",
            "|             user_id|  telephone_numbers|\n",
            "+--------------------+-------------------+\n",
            "|f32637b5-07fc-408...|         * . * . * |\n",
            "|abfac530-855f-4fb...|     * - * - * x * |\n",
            "|c83be50d-56d4-4b3...| +1- * - * - * x * |\n",
            "|54a1d47b-21cd-431...|               null|\n",
            "|afa0357b-c42e-4bc...|     * . * . * x * |\n",
            "|ce95d60b-3f2f-4e5...|     * . * . * x * |\n",
            "|29c8c8c9-b1e5-4df...| * - * - * - * x * |\n",
            "|5c3b239d-2795-4ea...|               null|\n",
            "|a39ad087-0c89-4f6...|     * - * - * x * |\n",
            "|31f9b130-becc-439...|         * . * . * |\n",
            "+--------------------+-------------------+\n",
            "only showing top 10 rows\n",
            "\n"
          ],
          "name": "stdout"
        }
      ]
    },
    {
      "cell_type": "code",
      "metadata": {
        "colab": {
          "base_uri": "https://localhost:8080/"
        },
        "id": "Av0APlx_5oLA",
        "outputId": "341a58ed-e1c2-4ea7-f506-cae477a6ad23"
      },
      "source": [
        "# Drop the records with null telephone number\n",
        "tel_numbers_sdf = tel_numbers_sdf.where(\"telephone_numbers is not null\")\n",
        "print(\"Dataset without null telephone numbers\",shape_of_sdf(tel_numbers_sdf))\n",
        "\n",
        "# Get all column names and it's types\n",
        "for col in tel_numbers_sdf.dtypes:\n",
        "    print(col[0]+\" \"+col[1])\n",
        "\n",
        "tel_numbers_sdf.show(10)"
      ],
      "execution_count": 49,
      "outputs": [
        {
          "output_type": "stream",
          "text": [
            "Dataset without null telephone numbers Spark DF has 199814 rows and 2 columns\n",
            "user_id string\n",
            "telephone_numbers string\n",
            "+--------------------+-------------------+\n",
            "|             user_id|  telephone_numbers|\n",
            "+--------------------+-------------------+\n",
            "|f32637b5-07fc-408...|         * . * . * |\n",
            "|abfac530-855f-4fb...|     * - * - * x * |\n",
            "|c83be50d-56d4-4b3...| +1- * - * - * x * |\n",
            "|afa0357b-c42e-4bc...|     * . * . * x * |\n",
            "|ce95d60b-3f2f-4e5...|     * . * . * x * |\n",
            "|29c8c8c9-b1e5-4df...| * - * - * - * x * |\n",
            "|a39ad087-0c89-4f6...|     * - * - * x * |\n",
            "|31f9b130-becc-439...|         * . * . * |\n",
            "|20db3bb7-6fe5-499...|     * - * - * x * |\n",
            "|7ddbe6ea-1730-42c...|                 * |\n",
            "+--------------------+-------------------+\n",
            "only showing top 10 rows\n",
            "\n"
          ],
          "name": "stdout"
        }
      ]
    },
    {
      "cell_type": "code",
      "metadata": {
        "colab": {
          "base_uri": "https://localhost:8080/"
        },
        "id": "2KHU_ANM6jr4",
        "outputId": "73e0488e-9b4b-4bb8-fedd-ace05b02084f"
      },
      "source": [
        "# Get all column names and it's types\n",
        "for col in job_history_sdf.dtypes:\n",
        "    print(col[0]+\" \"+col[1])\n",
        "\n",
        "job_history_sdf.show(5)\n",
        "\n",
        "# Analyse columns data in start and end columns\n",
        "job_history_sdf.groupBy('start').count().where(\"count > 25\").show(10)\n",
        "job_history_sdf.groupBy('end').count().where(\"count > 25\").show(10)"
      ],
      "execution_count": 50,
      "outputs": [
        {
          "output_type": "stream",
          "text": [
            "user_id string\n",
            "employer string\n",
            "end string\n",
            "id string\n",
            "is_fulltime boolean\n",
            "occupation string\n",
            "start string\n",
            "+--------------------+--------+----------+--------------------+-----------+--------------------+----------+\n",
            "|             user_id|employer|       end|                  id|is_fulltime|          occupation|     start|\n",
            "+--------------------+--------+----------+--------------------+-----------+--------------------+----------+\n",
            "|e9703a66-6556-4b4...|    null|1997-10-02|8c48a084-27d7-4f1...|      false|        Set designer|1996-12-26|\n",
            "|e9703a66-6556-4b4...|    null|1997-10-02|8c48a084-27d7-4f1...|      false|        Set designer|1996-12-26|\n",
            "|aa246388-104c-44f...|    null|2015-08-04|b9d4fc47-0e53-449...|       true|      Chief of Staff|1991-09-12|\n",
            "|aa246388-104c-44f...|    null|2015-08-04|b9d4fc47-0e53-449...|       true|      Chief of Staff|1991-09-12|\n",
            "|86af3e4d-6c57-424...|    null|2018-03-30|818289aa-0a0d-45a...|       true|Clinical cytogene...|1970-10-28|\n",
            "+--------------------+--------+----------+--------------------+-----------+--------------------+----------+\n",
            "only showing top 5 rows\n",
            "\n",
            "+----------+-----+\n",
            "|     start|count|\n",
            "+----------+-----+\n",
            "|1982-12-10|   34|\n",
            "|1984-03-08|   33|\n",
            "|1993-11-21|   48|\n",
            "|1983-01-16|   40|\n",
            "|2014-02-16|   38|\n",
            "|2008-10-26|   32|\n",
            "|2003-02-22|   29|\n",
            "|2015-05-01|   35|\n",
            "|1981-05-11|   29|\n",
            "|1994-03-01|   28|\n",
            "+----------+-----+\n",
            "only showing top 10 rows\n",
            "\n",
            "+----------+-----+\n",
            "|       end|count|\n",
            "+----------+-----+\n",
            "|1994-08-31|   34|\n",
            "|1993-11-09|   31|\n",
            "|2016-08-17|   26|\n",
            "|2000-11-13|   26|\n",
            "|1999-11-18|   28|\n",
            "|1994-03-01|   38|\n",
            "|1973-04-27|   27|\n",
            "|2006-05-24|   28|\n",
            "|2008-04-07|   26|\n",
            "|1991-10-07|   28|\n",
            "+----------+-----+\n",
            "only showing top 10 rows\n",
            "\n"
          ],
          "name": "stdout"
        }
      ]
    },
    {
      "cell_type": "code",
      "metadata": {
        "colab": {
          "base_uri": "https://localhost:8080/"
        },
        "id": "4scxlKnb7al1",
        "outputId": "3dbe6564-17d4-45a1-bd15-beb287215659"
      },
      "source": [
        "# Check Unique values in occupation column after cleaning \n",
        "job_history_sdf.select(\"occupation\").groupBy(\"occupation\").count().show(10)"
      ],
      "execution_count": 51,
      "outputs": [
        {
          "output_type": "stream",
          "text": [
            "+--------------------+-----+\n",
            "|          occupation|count|\n",
            "+--------------------+-----+\n",
            "| Retail merchandiser|  651|\n",
            "| Librarian, academic|  764|\n",
            "|Designer, ceramic...|  602|\n",
            "|    Catering manager|  683|\n",
            "|Engineer, aeronau...|  720|\n",
            "|Diplomatic Servic...|  747|\n",
            "|Primary school te...|  652|\n",
            "| Early years teacher|  524|\n",
            "|     Patent examiner|  637|\n",
            "|Occupational hygi...|  767|\n",
            "+--------------------+-----+\n",
            "only showing top 10 rows\n",
            "\n"
          ],
          "name": "stdout"
        }
      ]
    },
    {
      "cell_type": "code",
      "metadata": {
        "colab": {
          "base_uri": "https://localhost:8080/"
        },
        "id": "l3GBWeo672XB",
        "outputId": "742f61ef-9288-4250-e793-4b426ae03213"
      },
      "source": [
        "# Convert jobs_history_sdf columns to required datatypes\n",
        "job_history_sdf = job_history_sdf.withColumn(\"start\",F.col('start').cast(DateType()))\\\n",
        "                                 .withColumn(\"end\",F.col('start').cast(DateType()))\n",
        "\n",
        "# Get all column names and it's types\n",
        "for col in job_history_sdf.dtypes:\n",
        "    print(col[0]+\" \"+col[1])\n",
        "\n",
        "# Drop Duplicates\n",
        "print(\"Dataset with duplicates\",shape_of_sdf(job_history_sdf))\n",
        "job_history_sdf = job_history_sdf.drop_duplicates()\n",
        "\n",
        "print(\"Dataset without duplicates\",shape_of_sdf(job_history_sdf))\n",
        "\n",
        "job_history_sdf.show(10)"
      ],
      "execution_count": 52,
      "outputs": [
        {
          "output_type": "stream",
          "text": [
            "user_id string\n",
            "employer string\n",
            "end date\n",
            "id string\n",
            "is_fulltime boolean\n",
            "occupation string\n",
            "start date\n",
            "Dataset with duplicates Spark DF has 433112 rows and 7 columns\n",
            "Dataset without duplicates Spark DF has 133307 rows and 7 columns\n",
            "+--------------------+------------+----------+--------------------+-----------+--------------------+----------+\n",
            "|             user_id|    employer|       end|                  id|is_fulltime|          occupation|     start|\n",
            "+--------------------+------------+----------+--------------------+-----------+--------------------+----------+\n",
            "|8945242f-af27-40c...|        null|2011-12-23|57c9c1c1-0ffd-412...|       true|    Engineer, mining|2011-12-23|\n",
            "|a48ba4e2-2f5b-4da...|        null|2000-10-01|21b0bf54-4e80-4f6...|       true|Loss adjuster, ch...|2000-10-01|\n",
            "|57e7429d-e67e-446...|        null|1993-06-03|9b6c4729-abfb-426...|       null|Designer, blown g...|1993-06-03|\n",
            "|8469d401-8a77-419...|        null|2012-12-27|7fe9f1d2-bbfc-4bd...|       true|Financial risk an...|2012-12-27|\n",
            "|0684981a-1d25-462...|        null|1989-09-03|8558e373-03e2-4ad...|      false|Surveyor, hydrogr...|1989-09-03|\n",
            "|11ad91cb-df72-441...|        null|1983-08-29|40475b32-d4c8-4c7...|      false|          Oncologist|1983-08-29|\n",
            "|6fb9119b-f5f9-469...|Brooks Group|1989-04-01|b7c0cfd1-f166-4bd...|       null|Holiday represent...|1989-04-01|\n",
            "|a5dc29e3-0ced-445...|    Hall Ltd|2003-08-03|86bb1625-e429-4cc...|       null|Production design...|2003-08-03|\n",
            "|0c6df404-c617-427...|        null|1983-09-12|5450ae7f-2cf3-455...|       null|    Theatre director|1983-09-12|\n",
            "|72e9f26b-ab6a-4e7...|        null|2012-01-15|8558a64b-4064-40c...|       true|Management consul...|2012-01-15|\n",
            "+--------------------+------------+----------+--------------------+-----------+--------------------+----------+\n",
            "only showing top 10 rows\n",
            "\n"
          ],
          "name": "stdout"
        }
      ]
    },
    {
      "cell_type": "code",
      "metadata": {
        "colab": {
          "base_uri": "https://localhost:8080/"
        },
        "id": "7jTAInUQ9vkF",
        "outputId": "61005e38-2069-4a07-c358-1466c24ae32a"
      },
      "source": [
        "user_sdf = final_sdf.select('user_id','username','password','national_id','name','dob','address','created_at','logged_at','updated_at','is_active','car_brand','car_license_plate')\n",
        "print(shape_of_sdf(user_sdf))\n",
        "\n",
        "# Analyse user_sdf dataframe columns\n",
        "for col in user_sdf.dtypes:\n",
        "    print(col[0]+\" \"+col[1])\n",
        "\n",
        "user_sdf.show(5)"
      ],
      "execution_count": 53,
      "outputs": [
        {
          "output_type": "stream",
          "text": [
            "Spark DF has 433112 rows and 13 columns\n",
            "user_id string\n",
            "username string\n",
            "password string\n",
            "national_id string\n",
            "name string\n",
            "dob string\n",
            "address string\n",
            "created_at string\n",
            "logged_at bigint\n",
            "updated_at string\n",
            "is_active boolean\n",
            "car_brand string\n",
            "car_license_plate string\n",
            "+--------------------+--------------------+----------+-----------+------------------+----------+-----------------+--------------------+----------+--------------------+---------+---------+-----------------+\n",
            "|             user_id|            username|  password|national_id|              name|       dob|          address|          created_at| logged_at|          updated_at|is_active|car_brand|car_license_plate|\n",
            "+--------------------+--------------------+----------+-----------+------------------+----------+-----------------+--------------------+----------+--------------------+---------+---------+-----------------+\n",
            "|e9703a66-6556-4b4...|bboyle@garza-shel...|M!*(W7SpoU|199-43-8140|    Joshua Webster|1983-05-15|XXXXXXXX MN 35292|2003-09-19T13:43:...| 881885008|1986-01-02T09:49:...|     null|     null|             null|\n",
            "|e9703a66-6556-4b4...|bboyle@garza-shel...|M!*(W7SpoU|199-43-8140|    Joshua Webster|1983-05-15|XXXXXXXX MN 35292|2003-09-19T13:43:...| 881885008|1986-01-02T09:49:...|     null|     null|             null|\n",
            "|aa246388-104c-44f...|hannahrios@baker-...|0xw3M+wl@0|765-08-4594|Samantha Hernandez|1996-09-24|XXXXXXXX MI 12236|2002-10-08T09:14:...|  77028400|1984-08-26T14:42:...|     null|     null|             null|\n",
            "|aa246388-104c-44f...|hannahrios@baker-...|0xw3M+wl@0|765-08-4594|Samantha Hernandez|1996-09-24|XXXXXXXX MI 12236|2002-10-08T09:14:...|  77028400|1984-08-26T14:42:...|     null|     null|             null|\n",
            "|86af3e4d-6c57-424...|sethcarney@willia...|s5IU^0Bc)s|876-44-0269| Mr. John Mack PhD|1971-12-20|XXXXXXXX TN 97773|1993-11-22T08:32:...|1282838750|2010-12-31T12:18:...|     null|     null|             null|\n",
            "+--------------------+--------------------+----------+-----------+------------------+----------+-----------------+--------------------+----------+--------------------+---------+---------+-----------------+\n",
            "only showing top 5 rows\n",
            "\n"
          ],
          "name": "stdout"
        }
      ]
    },
    {
      "cell_type": "code",
      "metadata": {
        "colab": {
          "base_uri": "https://localhost:8080/"
        },
        "id": "6cFrh9bs_Jlx",
        "outputId": "a2a62d80-45c4-4590-c50e-8008d2ade0c2"
      },
      "source": [
        "# Check the count of unique user_id\n",
        "user_sdf.select(F.countDistinct(\"user_id\").alias(\"unique_id_count\")).show()\n",
        "\n",
        "# Analyse date columns\n",
        "user_sdf.groupBy('dob').count().where(\"count > 10\").show(5)"
      ],
      "execution_count": 54,
      "outputs": [
        {
          "output_type": "stream",
          "text": [
            "+---------------+\n",
            "|unique_id_count|\n",
            "+---------------+\n",
            "|         100000|\n",
            "+---------------+\n",
            "\n",
            "+----------+-----+\n",
            "|       dob|count|\n",
            "+----------+-----+\n",
            "|2012-03-09|   14|\n",
            "|2006-11-18|   12|\n",
            "|2014-08-29|   12|\n",
            "|1989-07-16|   14|\n",
            "|1999-02-14|   12|\n",
            "+----------+-----+\n",
            "only showing top 5 rows\n",
            "\n"
          ],
          "name": "stdout"
        }
      ]
    },
    {
      "cell_type": "code",
      "metadata": {
        "id": "2PPL3YruAI-u"
      },
      "source": [
        "# Mask Sensitive data in Users dataset\n",
        "\"\"\"\n",
        "For National_ID :\n",
        "where ever two consecutive digits are found, mask the digits\n",
        "\"\"\"\n",
        "\n",
        "user_sdf = user_sdf.withColumn(\"national_id\",F.regexp_replace(F.col(\"national_id\"), \"\\\\d{2,}\", \" * \"))"
      ],
      "execution_count": 55,
      "outputs": []
    },
    {
      "cell_type": "code",
      "metadata": {
        "id": "mmhHISljCFSb"
      },
      "source": [
        "from pyspark.sql.functions import regexp_extract, regexp_replace\n",
        "from pyspark.sql.functions import concat, expr, length, lit, split, when\n",
        "\n",
        "\"\"\"\n",
        "For username :\n",
        "(?<=.{2}): Positive lookbehind for 2 characters\n",
        "(?<=.{1}): Positive lookbehind for 1 character\n",
        "\\w+: Any word characters\n",
        "(?=.{2}@): Positive lookahead for 2 characters followed by a literal @\n",
        "(?=.{1}@): Positive lookahead for 1 character followed by a literal @\n",
        "\"\"\"\n",
        "\n",
        "patA = \"regexp_replace(username, concat('(?<=.{2})', pattern, '(?=.{2}@)'), replacement)\"\n",
        "patB = \"regexp_replace(username, concat('(?<=.{1})', pattern, '(?=.{1}@)'), replacement)\"\n",
        "\n",
        "user_sdf = user_sdf.withColumn(\"username_first_part\", split(\"username\", \"@\").getItem(0))\\\n",
        "                   .withColumn(\"pattern\", when(length(\"username_first_part\") > 5, regexp_extract(\"username\", r\"(?<=.{2})\\w+(?=.{2}@)\", 0)).otherwise(regexp_extract(\"username\", r\"(?<=.{1})\\w+(?=.{1}@)\", 0)))\\\n",
        "                   .withColumn(\"replacement\", regexp_replace(\"pattern\", r\"\\w\", \"*\"))\\\n",
        "                   .withColumn(\"username\",when(length(\"username_first_part\") > 5, expr(patA)).when(length(\"username_first_part\") > 3, expr(patB)).otherwise(regexp_replace('username', '\\w(?=@)', '*'))).drop(\"pattern\", \"replacement\",\"username_first_part\")"
      ],
      "execution_count": 56,
      "outputs": []
    },
    {
      "cell_type": "code",
      "metadata": {
        "colab": {
          "base_uri": "https://localhost:8080/"
        },
        "id": "MT9-7olVED25",
        "outputId": "c656de7b-ad69-4a65-adc6-a8ab4d11b281"
      },
      "source": [
        "# Look at username sample data after masking\n",
        "user_sdf.select('username').show(5)"
      ],
      "execution_count": 57,
      "outputs": [
        {
          "output_type": "stream",
          "text": [
            "+--------------------+\n",
            "|            username|\n",
            "+--------------------+\n",
            "|bb**le@garza-shel...|\n",
            "|bb**le@garza-shel...|\n",
            "|ha******os@baker-...|\n",
            "|ha******os@baker-...|\n",
            "|se******ey@willia...|\n",
            "+--------------------+\n",
            "only showing top 5 rows\n",
            "\n"
          ],
          "name": "stdout"
        }
      ]
    },
    {
      "cell_type": "code",
      "metadata": {
        "id": "mtRu1s62MjiY"
      },
      "source": [
        "# Convert required columns to Timestamp Type\n",
        "\"\"\"Convert to String Type and take out only first 19 characters and then cast columns to Timestamp\"\"\"\n",
        "user_sdf = user_sdf.withColumn(\"created_at\",F.col('created_at').cast(StringType()))\n",
        "\n",
        "user_sdf = user_sdf.withColumn(\"created_at\", F.substring_index(user_sdf.created_at, ':', -1).cast(LongType()))\\\n",
        "                   .withColumn(\"updated_at\", F.substring_index(user_sdf.updated_at, ':', -1).cast(LongType()))\n",
        "\n",
        "# Convert last_login column values to Timestamp Type\n",
        "user_sdf = user_sdf.withColumn(\"logged_at\", F.from_unixtime(F.col(\"logged_at\"),\"yyyy-MM-dd HH:mm:ss\").cast(TimestampType()))\\\n",
        "                   .withColumn(\"created_at\", F.from_unixtime(F.col(\"created_at\"),\"yyyy-MM-dd HH:mm:ss\").cast(TimestampType()))\\\n",
        "                   .withColumn(\"updated_at\", F.from_unixtime(F.col(\"updated_at\"),\"yyyy-MM-dd HH:mm:ss\").cast(TimestampType()))"
      ],
      "execution_count": 58,
      "outputs": []
    },
    {
      "cell_type": "code",
      "metadata": {
        "colab": {
          "base_uri": "https://localhost:8080/"
        },
        "id": "ewedWbuppU9p",
        "outputId": "0e2d7e7d-0bd2-40bd-a95c-2b2cf709aedb"
      },
      "source": [
        "# Drop Duplicates before masking columns\n",
        "print(\"Dataset with duplicates\",shape_of_sdf(user_sdf))\n",
        "user_sdf = user_sdf.drop_duplicates()\n",
        "print(\"Dataset without duplicates\",shape_of_sdf(user_sdf))"
      ],
      "execution_count": 59,
      "outputs": [
        {
          "output_type": "stream",
          "text": [
            "Dataset with duplicates Spark DF has 433112 rows and 13 columns\n",
            "Dataset without duplicates Spark DF has 100000 rows and 13 columns\n"
          ],
          "name": "stdout"
        }
      ]
    },
    {
      "cell_type": "code",
      "metadata": {
        "colab": {
          "base_uri": "https://localhost:8080/"
        },
        "id": "eIWPzyZ9G4Ee",
        "outputId": "da16da18-af6f-419b-d7a6-5b976e64c214"
      },
      "source": [
        "user_sdf = user_sdf.withColumn(\"address_l\", F.substring_index(user_sdf.address, ',', 1))\\\n",
        "                   .withColumn(\"address_r\", F.substring_index(user_sdf.address, ',', -1))\\\n",
        "                   .withColumn(\"address\", F.when(F.col('address').isNotNull(),F.concat(F.lit(\"XXXXXXXX\"), F.col(\"address_r\"))).otherwise(F.col('address')))\n",
        "\n",
        "user_sdf = user_sdf.drop('address_l','address_r')\n",
        "\n",
        "# Encrypt the name column values\n",
        "user_sdf = user_sdf.withColumn(\"name\",encrypt_udf(F.col(\"name\")))\n",
        "\n",
        "user_sdf.show(10)"
      ],
      "execution_count": 60,
      "outputs": [
        {
          "output_type": "stream",
          "text": [
            "+--------------------+--------------------+----------+-----------+--------------------+----------+--------------------+-------------------+-------------------+-------------------+---------+---------+-----------------+\n",
            "|             user_id|            username|  password|national_id|                name|       dob|             address|         created_at|          logged_at|         updated_at|is_active|car_brand|car_license_plate|\n",
            "+--------------------+--------------------+----------+-----------+--------------------+----------+--------------------+-------------------+-------------------+-------------------+---------+---------+-----------------+\n",
            "|9024c53d-71a1-46b...|sa**09@campbell-f...|*E3Jbdu1I3| * - * - * |1897378f7b3e4bde6...|      null|                null|2017-05-17 12:43:08|2005-11-11 23:14:00|1988-11-27 23:18:02|     null|     null|             null|\n",
            "|f03010d0-fffd-43e...|je********yl@hotm...|E5nIuRYd@5| * - * - * |b623279c1b5db0732...|      null|                null|2014-02-17 02:17:24|2009-12-08 16:01:58|1970-10-28 02:31:46|    false|    Honda|          841 DKH|\n",
            "|3db261d1-194b-4fe...|re**********on@co...|(24TGCMg*3| * - * - * |3907a279e0ba1346e...|      null|                null|1977-11-06 10:29:12|1998-08-27 05:09:57|1972-06-06 15:27:20|     null|     null|             null|\n",
            "|abfac530-855f-4fb...|  uj**es@hotmail.com|_CcsdojeY6| * - * - * |90cc2a0d5a1679656...|      null|                null|2019-08-02 06:04:10|1991-09-16 01:57:39|1998-02-10 00:07:03|     null|     null|             null|\n",
            "|cfbcf988-a929-40b...|je**********on@gm...|HYc0U9KkH_| * - * - * |83472018ab1cdebeb...|      null|                null|2003-06-11 07:55:38|2013-05-30 03:05:35|1976-08-31 23:10:23|     null|     null|             null|\n",
            "|1eb24bf5-e934-482...|mo***********ie@g...|&QcUyfJo6y| * - * - * |ab1bd85cd361765fb...|2010-08-25|XXXXXXXXXXXXXXXX ...|2010-07-01 12:09:36|1997-06-26 07:49:51|1991-03-22 07:14:48|     null|     null|             null|\n",
            "|38bed9f2-de25-410...|me********en@harr...|O1j1cTgi@g| * - * - * |91ca645169852620d...|      null|                null|2017-03-03 06:59:13|1992-10-18 17:39:23|1990-09-18 14:50:20|     null|    Honda|          021 BZO|\n",
            "|5d8062f4-84d8-4bd...|ly******er@willia...|vLc3Zlz4L%| * - * - * |8c014f7d908d7b437...|      null|                null|1980-02-21 10:07:29|1970-10-19 14:39:23|1993-02-09 16:28:22|     null|     null|             null|\n",
            "|be6571a1-0d69-43b...|sh*********on@yah...|_IcjKlDyU3| * - * - * |02f4c26266f1b2c35...|      null|                null|1985-12-05 11:48:37|1990-07-04 09:37:49|1975-01-14 18:30:06|     true|    Honda|          7RD4106|\n",
            "|af305666-ad2d-434...|st*******27@yahoo...|knu0%_YnV&| * - * - * |c72b076609bc79332...|1982-05-01|XXXXXXXXXXXXXXXXU...|1987-02-12 14:07:35|1991-09-02 08:57:12|1995-08-06 11:29:50|     null|     null|             null|\n",
            "+--------------------+--------------------+----------+-----------+--------------------+----------+--------------------+-------------------+-------------------+-------------------+---------+---------+-----------------+\n",
            "only showing top 10 rows\n",
            "\n"
          ],
          "name": "stdout"
        }
      ]
    },
    {
      "cell_type": "code",
      "metadata": {
        "colab": {
          "base_uri": "https://localhost:8080/"
        },
        "id": "dtCQLuEPgrJm",
        "outputId": "5363d112-5ad7-44c2-aa73-74acf77f3922"
      },
      "source": [
        "# Handling NaN and NaT values before uploading in database\n",
        "user_sdf = user_sdf.na.replace('NaN',None)\n",
        "user_sdf = user_sdf.na.replace('NaT',None)\n",
        "\n",
        "for col in user_sdf.dtypes:\n",
        "    print(col[0]+\" \"+col[1])\n",
        "\n",
        "user_sdf.show(10)"
      ],
      "execution_count": 61,
      "outputs": [
        {
          "output_type": "stream",
          "text": [
            "user_id string\n",
            "username string\n",
            "password string\n",
            "national_id string\n",
            "name string\n",
            "dob string\n",
            "address string\n",
            "created_at timestamp\n",
            "logged_at timestamp\n",
            "updated_at timestamp\n",
            "is_active boolean\n",
            "car_brand string\n",
            "car_license_plate string\n",
            "+--------------------+--------------------+----------+-----------+--------------------+----------+--------------------+-------------------+-------------------+-------------------+---------+---------+-----------------+\n",
            "|             user_id|            username|  password|national_id|                name|       dob|             address|         created_at|          logged_at|         updated_at|is_active|car_brand|car_license_plate|\n",
            "+--------------------+--------------------+----------+-----------+--------------------+----------+--------------------+-------------------+-------------------+-------------------+---------+---------+-----------------+\n",
            "|9024c53d-71a1-46b...|sa**09@campbell-f...|*E3Jbdu1I3| * - * - * |1897378f7b3e4bde6...|      null|                null|2017-05-17 12:43:08|2005-11-11 23:14:00|1988-11-27 23:18:02|     null|     null|             null|\n",
            "|f03010d0-fffd-43e...|je********yl@hotm...|E5nIuRYd@5| * - * - * |b623279c1b5db0732...|      null|                null|2014-02-17 02:17:24|2009-12-08 16:01:58|1970-10-28 02:31:46|    false|    Honda|          841 DKH|\n",
            "|3db261d1-194b-4fe...|re**********on@co...|(24TGCMg*3| * - * - * |3907a279e0ba1346e...|      null|                null|1977-11-06 10:29:12|1998-08-27 05:09:57|1972-06-06 15:27:20|     null|     null|             null|\n",
            "|abfac530-855f-4fb...|  uj**es@hotmail.com|_CcsdojeY6| * - * - * |90cc2a0d5a1679656...|      null|                null|2019-08-02 06:04:10|1991-09-16 01:57:39|1998-02-10 00:07:03|     null|     null|             null|\n",
            "|cfbcf988-a929-40b...|je**********on@gm...|HYc0U9KkH_| * - * - * |83472018ab1cdebeb...|      null|                null|2003-06-11 07:55:38|2013-05-30 03:05:35|1976-08-31 23:10:23|     null|     null|             null|\n",
            "|1eb24bf5-e934-482...|mo***********ie@g...|&QcUyfJo6y| * - * - * |ab1bd85cd361765fb...|2010-08-25|XXXXXXXXXXXXXXXX ...|2010-07-01 12:09:36|1997-06-26 07:49:51|1991-03-22 07:14:48|     null|     null|             null|\n",
            "|38bed9f2-de25-410...|me********en@harr...|O1j1cTgi@g| * - * - * |91ca645169852620d...|      null|                null|2017-03-03 06:59:13|1992-10-18 17:39:23|1990-09-18 14:50:20|     null|    Honda|          021 BZO|\n",
            "|5d8062f4-84d8-4bd...|ly******er@willia...|vLc3Zlz4L%| * - * - * |8c014f7d908d7b437...|      null|                null|1980-02-21 10:07:29|1970-10-19 14:39:23|1993-02-09 16:28:22|     null|     null|             null|\n",
            "|be6571a1-0d69-43b...|sh*********on@yah...|_IcjKlDyU3| * - * - * |02f4c26266f1b2c35...|      null|                null|1985-12-05 11:48:37|1990-07-04 09:37:49|1975-01-14 18:30:06|     true|    Honda|          7RD4106|\n",
            "|af305666-ad2d-434...|st*******27@yahoo...|knu0%_YnV&| * - * - * |c72b076609bc79332...|1982-05-01|XXXXXXXXXXXXXXXXU...|1987-02-12 14:07:35|1991-09-02 08:57:12|1995-08-06 11:29:50|     null|     null|             null|\n",
            "+--------------------+--------------------+----------+-----------+--------------------+----------+--------------------+-------------------+-------------------+-------------------+---------+---------+-----------------+\n",
            "only showing top 10 rows\n",
            "\n"
          ],
          "name": "stdout"
        }
      ]
    },
    {
      "cell_type": "markdown",
      "metadata": {
        "id": "HtRufsRKts9d"
      },
      "source": [
        "**Write JSON File data in DB Tables**"
      ]
    },
    {
      "cell_type": "code",
      "metadata": {
        "colab": {
          "base_uri": "https://localhost:8080/"
        },
        "id": "ezpbRWpI-U8b",
        "outputId": "108f0b8b-de85-4540-d979-8503d01bfda0"
      },
      "source": [
        "# Check the shape of final dataframes to be loaded\n",
        "print(shape_of_sdf(user_sdf))\n",
        "print(shape_of_sdf(tel_numbers_sdf))\n",
        "print(shape_of_sdf(job_history_sdf))"
      ],
      "execution_count": 62,
      "outputs": [
        {
          "output_type": "stream",
          "text": [
            "Spark DF has 100000 rows and 13 columns\n",
            "Spark DF has 199814 rows and 2 columns\n",
            "Spark DF has 133307 rows and 7 columns\n"
          ],
          "name": "stdout"
        }
      ]
    },
    {
      "cell_type": "code",
      "metadata": {
        "id": "cv2B1wO2qUD2"
      },
      "source": [
        "# Create Tables in SQL Server Database\n",
        "cursor = conn.cursor()\n",
        "\n",
        "cursor.execute('''\n",
        "CREATE TABLE dbo.users (\n",
        "user_id nvarchar(256) NOT NULL PRIMARY KEY,\n",
        "username nvarchar(256) NOT NULL,\n",
        "password nvarchar(256) NOT NULL,\n",
        "national_id nvarchar(256) NULL,\n",
        "name nvarchar(256) NOT NULL,\n",
        "dob date,\n",
        "address nvarchar(256) NULL,\n",
        "created_at datetime,\n",
        "logged_at datetime,\n",
        "updated_at datetime,\n",
        "is_active bit NULL,\n",
        "car_brand nvarchar(256) NULL,\n",
        "car_license_plate nvarchar(256) NULL\n",
        ");\n",
        "''')\n",
        "conn.commit()"
      ],
      "execution_count": null,
      "outputs": []
    },
    {
      "cell_type": "code",
      "metadata": {
        "id": "dO-ZqXR5toWE"
      },
      "source": [
        "# Write the data to SQL Server Database\n",
        "# 1. JSON Data - users\n",
        "# Insert data in [Distributors.dbo.users] table of SQL Server Database\n",
        "user_sdf.write.mode(\"append\") \\\n",
        "        .format(\"jdbc\") \\\n",
        "        .option(\"url\", \"jdbc:sqlserver://\"+db_host+\":1433;databaseName=Distributors\") \\\n",
        "        .option(\"dbtable\", 'dbo.users') \\\n",
        "        .option(\"user\",user) \\\n",
        "        .option(\"password\",pwd) \\\n",
        "        .save()"
      ],
      "execution_count": null,
      "outputs": []
    },
    {
      "cell_type": "code",
      "metadata": {
        "id": "cEq7f2B_Fd5l"
      },
      "source": [
        "# Drop the dataframe to release the memory\n",
        "del user_sdf"
      ],
      "execution_count": null,
      "outputs": []
    },
    {
      "cell_type": "code",
      "metadata": {
        "id": "5Kz75XVRujvV"
      },
      "source": [
        "# Read the sample data from Loaded data\n",
        "cursor.execute('SELECT top 10 * FROM dbo.users;')\n",
        "for row in cursor:\n",
        "    print(row)"
      ],
      "execution_count": null,
      "outputs": []
    },
    {
      "cell_type": "code",
      "metadata": {
        "id": "AYD-kMsdod8M"
      },
      "source": [
        "# Create Tables in SQL Server Database\n",
        "cursor = conn.cursor()\n",
        "\n",
        "cursor.execute('''\n",
        "CREATE TABLE dbo.job_history (\n",
        "user_id nvarchar(256) NOT NULL,\n",
        "employer nvarchar(256) NULL,\n",
        "[end] date,\n",
        "id nvarchar(256) NULL,\n",
        "is_fulltime bit NULL,\n",
        "occupation nvarchar(256) NULL,\n",
        "[start] date\n",
        ");\n",
        "''')\n",
        "conn.commit()"
      ],
      "execution_count": null,
      "outputs": []
    },
    {
      "cell_type": "code",
      "metadata": {
        "id": "mYU9rMcEhdbc"
      },
      "source": [
        "# Write the data to SQL Server Database\n",
        "# 2. JSON Data - job_history\n",
        "# Insert data in [Distributors.dbo.job_history] table of SQL Server Database\n",
        "job_history_sdf.write.mode(\"append\") \\\n",
        "        .format(\"jdbc\") \\\n",
        "        .option(\"url\", \"jdbc:sqlserver://\"+db_host+\":1433;databaseName=Distributors\") \\\n",
        "        .option(\"dbtable\", 'dbo.job_history') \\\n",
        "        .option(\"user\",user) \\\n",
        "        .option(\"password\",pwd) \\\n",
        "        .save()"
      ],
      "execution_count": null,
      "outputs": []
    },
    {
      "cell_type": "code",
      "metadata": {
        "id": "zKJtLpN3FS6w"
      },
      "source": [
        "# Drop the dataframe to release the memory\n",
        "del job_history_sdf"
      ],
      "execution_count": null,
      "outputs": []
    },
    {
      "cell_type": "code",
      "metadata": {
        "id": "muZOuGoPvVb5"
      },
      "source": [
        "# Read the sample data from Loaded data\n",
        "cursor.execute('SELECT top 10 * FROM dbo.job_history;')\n",
        "for row in cursor:\n",
        "    print(row)"
      ],
      "execution_count": null,
      "outputs": []
    },
    {
      "cell_type": "code",
      "metadata": {
        "id": "Ift-yATOiCgO"
      },
      "source": [
        "# Create Tables in SQL Server Database\n",
        "cursor = conn.cursor()\n",
        "\n",
        "cursor.execute('''\n",
        "CREATE TABLE dbo.telephone_numbers (\n",
        "user_id nvarchar(256) NOT NULL,\n",
        "telephone_numbers nvarchar(256) NULL\n",
        ")\n",
        "''')\n",
        "conn.commit()"
      ],
      "execution_count": null,
      "outputs": []
    },
    {
      "cell_type": "code",
      "metadata": {
        "id": "OoHYMRCEiCpU"
      },
      "source": [
        "# Write the data to SQL Server Database\n",
        "# 3. JSON Data - telephone_numbers\n",
        "# Insert data in [Distributors.dbo.telephone_numbers] table of SQL Server Database\n",
        "tel_numbers_sdf.write.mode(\"append\") \\\n",
        "        .format(\"jdbc\") \\\n",
        "        .option(\"url\", \"jdbc:sqlserver://\"+db_host+\":1433;databaseName=Distributors\") \\\n",
        "        .option(\"dbtable\", 'dbo.telephone_numbers') \\\n",
        "        .option(\"user\",user) \\\n",
        "        .option(\"password\",pwd) \\\n",
        "        .save()"
      ],
      "execution_count": null,
      "outputs": []
    },
    {
      "cell_type": "code",
      "metadata": {
        "id": "4l0apZ01FZ5C"
      },
      "source": [
        "# Drop the dataframe to release the memory\n",
        "del tel_numbers_sdf"
      ],
      "execution_count": null,
      "outputs": []
    },
    {
      "cell_type": "code",
      "metadata": {
        "id": "Gx1ac1aLiCv7"
      },
      "source": [
        "# Read the sample data from Loaded data\n",
        "cursor.execute('SELECT top 10 * FROM dbo.telephone_numbers;')\n",
        "for row in cursor:\n",
        "    print(row)"
      ],
      "execution_count": null,
      "outputs": []
    }
  ]
}